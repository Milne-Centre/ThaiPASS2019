{
 "cells": [
  {
   "cell_type": "markdown",
   "metadata": {},
   "source": [
    "# Introduction\n",
    "This task is designed to test if you have python installed correctly.\n",
    "\n",
    "Once you have finished with the tasks in this Jupyter Notebook, please send it to thaipass@hull.ac.uk\n",
    "\n",
    "## For-loop\n",
    "\n",
    "You will need to use a for-loop to calculate a number of y-values for given x-values.\n",
    "\n",
    "## Functions\n",
    "\n",
    "The y values are calculated from the formula: $y = \\dfrac{1}{x^2}$\n",
    "\n"
   ]
  },
  {
   "cell_type": "markdown",
   "metadata": {},
   "source": [
    "### Importing libraries\n",
    "\n",
    "The first thing to do in any python script is to import relevant libraries (numpy and matplotlib in this case)"
   ]
  },
  {
   "cell_type": "code",
   "execution_count": 1,
   "metadata": {},
   "outputs": [],
   "source": [
    "import numpy as np\n",
    "import matplotlib.pyplot as plt"
   ]
  },
  {
   "cell_type": "markdown",
   "metadata": {},
   "source": [
    "### Function definition\n",
    "\n",
    "Next, we need to define the function that calculates y-values. "
   ]
  },
  {
   "cell_type": "code",
   "execution_count": 2,
   "metadata": {},
   "outputs": [],
   "source": [
    "# Define the function to use\n",
    "def fun_invsquared(x):\n",
    "    y = 1. / x**2.\n",
    "    return y"
   ]
  },
  {
   "cell_type": "markdown",
   "metadata": {},
   "source": [
    "Now, create the x array from which y-values are calculated"
   ]
  },
  {
   "cell_type": "code",
   "execution_count": 21,
   "metadata": {},
   "outputs": [],
   "source": [
    "# Creating x array\n",
    "x_start = 1.\n",
    "x_end = 10\n",
    "step_size = 0.1\n",
    "x = np.arange(x_start, x_end, step_size)"
   ]
  },
  {
   "cell_type": "markdown",
   "metadata": {},
   "source": [
    "### Using a for-loop to calculate values\n",
    "\n",
    "Now, use a for-loop to find y-values for each x-value"
   ]
  },
  {
   "cell_type": "code",
   "execution_count": 22,
   "metadata": {},
   "outputs": [],
   "source": [
    "y = []\n",
    "for i in x:\n",
    "#     temp = 1. / i**2.\n",
    "    temp = fun_invsquared(i)\n",
    "    y.append(temp)"
   ]
  },
  {
   "cell_type": "markdown",
   "metadata": {},
   "source": [
    "### Plotting\n",
    "\n",
    "Plot the x and y data points in a line plot or scatter plot"
   ]
  },
  {
   "cell_type": "code",
   "execution_count": 23,
   "metadata": {},
   "outputs": [
    {
     "data": {
      "text/plain": [
       "Text(0,0.5,'y')"
      ]
     },
     "execution_count": 23,
     "metadata": {},
     "output_type": "execute_result"
    },
    {
     "data": {
      "image/png": "[encoded data removed]",
      "text/plain": [
       "<Figure size 792x504 with 1 Axes>"
      ]
     },
     "metadata": {},
     "output_type": "display_data"
    }
   ],
   "source": [
    "fig = plt.figure(figsize=(11,7))\n",
    "ax = fig.add_subplot(1,1,1)\n",
    "plt.scatter(x,y)\n",
    "plt.plot(x,y)\n",
    "plt.title('inverse squared')\n",
    "plt.xlabel('x')\n",
    "plt.ylabel('y')"
   ]
  },
  {
   "cell_type": "markdown",
   "metadata": {},
   "source": [
    "Try to experiment with plotting the data. For example:\n",
    "\n",
    "* x labels\n",
    "* y labels\n",
    "* title\n",
    "* font size of these\n",
    "\n",
    "You can find help on these two pages:\n",
    "* Tutorial: https://matplotlib.org/tutorials/text/text_intro.html#sphx-glr-tutorials-text-text-intro-py\n",
    "* Summary sheet: https://matplotlib.org/3.1.1/api/pyplot_summary.html\n",
    "\n",
    "You can also try to experiment with creating different functions and plotting them, for example:\n",
    "* linear functions\n",
    "* different exponential functions, e.g $y = \\dfrac{1}{x^{1.5}}$\n",
    "\n",
    "### In real life...\n",
    "\n",
    "Can you think of any physical situations where this function applies?"
   ]
  }
 ],
 "metadata": {
  "kernelspec": {
   "display_name": "Python 3",
   "language": "python",
   "name": "python3"
  },
  "language_info": {
   "codemirror_mode": {
    "name": "ipython",
    "version": 3
   },
   "file_extension": ".py",
   "mimetype": "text/x-python",
   "name": "python",
   "nbconvert_exporter": "python",
   "pygments_lexer": "ipython3",
   "version": "3.6.5"
  }
 },
 "nbformat": 4,
 "nbformat_minor": 2
}
