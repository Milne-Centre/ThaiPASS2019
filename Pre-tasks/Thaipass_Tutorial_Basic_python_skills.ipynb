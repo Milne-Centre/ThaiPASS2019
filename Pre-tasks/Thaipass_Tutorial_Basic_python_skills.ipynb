{
 "cells": [
  {
   "cell_type": "markdown",
   "metadata": {},
   "source": [
    "#    Basic python skills\n",
    "\n",
    "\n",
    "![THAIPASS 2018](https://indico.narit.or.th/event/81/logo-2988874644.png \"Thaipass 2018 logo\")\n",
    "\n",
    "\n",
    "-----\n",
    "### Using a jupyter notebook\n",
    "\n",
    "Jupyter notebook is a browser based python package that allows for cell based coding.\n",
    "Jupyter notebook can edit most text based files, but is designed to run `.ipynb` files, such as this one.\n",
    "This can all be easliy done within the dashboard of the program.\n",
    "The code uses a kernel as its computational engine, storing memory and processing tasks.\n",
    "The kernal will store any functions, variables and previous code that has been ran.\n",
    "The kernel can be reset by going into Kernal -> Restart & Clear Outputs.\n",
    "If your code eeds to be stoped, for example if it is taking too long for a task, the kernel can be interupted by using the stop button ($\\Box$) above the work area.\n",
    "In order to run a cell with code in you simply have to shift+enter when interacting with the desired cell.\n",
    "\n",
    "-----\n",
    "### Python Basics\n",
    "\n",
    "In this notebook we will give an overview of the basic python skills needed to create simple python scripts and begin to work towards basic data analysis. \n",
    "These skills will prepare you for the upcoming school.\n",
    "\n",
    "The skills covered here are:\n",
    "\n",
    "+ Basic Functions\n",
    "    + Importing\n",
    "    + Commenting\n",
    "    + Printing outputs\n",
    "    + Mathematic Functions\n",
    "    + Variables\n",
    "    \n",
    "+ Data types\n",
    "    + Integer, Floating point variables and Strings\n",
    "    + Type statements\n",
    "    + Conflicts and Combinations\n",
    "    \n",
    "+ Array/List\n",
    "    + Contain many variables\n",
    "    + Differences and conflicts\n",
    "    + Nesting lists\n",
    "    \n",
    "+ Data structure\n",
    "    + Indexing\n",
    "    + Indenting\n",
    "    + Objects\n",
    "    \n",
    "+ Boolean\n",
    "    + True/False\n",
    "    + If statements\n",
    "    + Conditionals \n",
    "    \n",
    "+ Simple Loops\n",
    "    + For loops\n",
    "    + While loops\n",
    "    + Recursion\n",
    "    \n",
    "+ Input\n",
    "    + External input\n",
    "    + interactivity\n",
    "    \n",
    "-----\n",
    "#### Debugging\n",
    "\n",
    "One of the most important skills to familiarise yourself with is debugging your code.\n",
    "When your code does not function it will generate an error message based on the issue it ran into.\n",
    "Take the time to identify where you code is going wrong and attempt to fix it.\n",
    "If the error message seems vague you may want to experiment with your code by changing variables and adding outputs to examine your code at each step.\n",
    "\n",
    "-----\n",
    "#### Tasks\n",
    "\n",
    "\n",
    "At the end and throughout of this notebook you will find some basic tasks to test your skills with basic python. As python is an ever expanding platform many of the tasks can likely be done by external scripts, but in order to test yourself we ask that you use only the skills shown in this notebook."
   ]
  },
  {
   "cell_type": "markdown",
   "metadata": {},
   "source": [
    "### Importing modules and commenting"
   ]
  },
  {
   "cell_type": "code",
   "execution_count": 1,
   "metadata": {
    "collapsed": true
   },
   "outputs": [],
   "source": [
    "# This is a comment\n",
    "# a = test\n",
    "# The simple equation above is ignored due to being commented out\n",
    "\n",
    "# Importing directly from the module name, we have shortened the numpy name to np\n",
    "# np will be used as reference for numpy from here on in both the code and the comments\n",
    "import numpy as np # Comments can be made after code and will function in the same way.\n",
    "\n",
    "#Here we are importing the pyplot module form within the matplotlib module\n",
    "#This can be done either way shown below\n",
    "from matplotlib import pyplot as plt\n",
    "import matplotlib.pyplot as plt"
   ]
  },
  {
   "cell_type": "markdown",
   "metadata": {},
   "source": [
    "### Print statements\n",
    "Print statements simply output a variable to be output onto the screen. \n",
    "Within a notebook it will output the string below the cell it is ran from."
   ]
  },
  {
   "cell_type": "code",
   "execution_count": 2,
   "metadata": {},
   "outputs": [
    {
     "name": "stdout",
     "output_type": "stream",
     "text": [
      "TEST\n",
      "1\n",
      "1.5\n",
      "<class 'str'>\n"
     ]
    }
   ],
   "source": [
    "# Below is a print statement that outputs the string attached\n",
    "print('TEST')\n",
    "print(1)   # An integer\n",
    "print(1.5) # A float\n",
    "# Print statment can contain calculations and functions:\n",
    "print(type('Test'))"
   ]
  },
  {
   "cell_type": "markdown",
   "metadata": {},
   "source": [
    "The final line of a cell will automatically be outputed"
   ]
  },
  {
   "cell_type": "code",
   "execution_count": 3,
   "metadata": {},
   "outputs": [
    {
     "data": {
      "text/plain": [
       "'FINAL LINE 2'"
      ]
     },
     "execution_count": 3,
     "metadata": {},
     "output_type": "execute_result"
    }
   ],
   "source": [
    "# The final line in a cell will be printed, if possible\n",
    "'FINAL LINE 1'\n",
    "'FINAL LINE 2'"
   ]
  },
  {
   "cell_type": "markdown",
   "metadata": {},
   "source": [
    "### Basic python function\n",
    "Simple and advanced mathematics can be performed by python. These use the standard mathematical opertors of `+`, `-`, `*`(mutiplication), `/`(division), `**`(exponents).\n",
    "\n",
    "The code will follow standard mathematical rules, initially performing any math in parentheses, performing any indexing, any multiplication or division and finally any addition or subtraction."
   ]
  },
  {
   "cell_type": "code",
   "execution_count": 4,
   "metadata": {},
   "outputs": [
    {
     "name": "stdout",
     "output_type": "stream",
     "text": [
      "3\n",
      "10\n",
      "625\n",
      "19683\n"
     ]
    }
   ],
   "source": [
    "# We can do simple mathematical functions, that can be built up to more complex functions\n",
    "print(1+2)\n",
    "print(5*2)\n",
    "print(5**4)\n",
    "print((3**3)**3)"
   ]
  },
  {
   "cell_type": "markdown",
   "metadata": {},
   "source": [
    "These mathematical functions can be made easier by using variables defined before hand.\n",
    "to define a variable we simply equate values to a variable name, below we use `a` and `b`, but they can be any string of letters.\n",
    "A variable name should be something that makes sense if writing a larger script."
   ]
  },
  {
   "cell_type": "code",
   "execution_count": 5,
   "metadata": {},
   "outputs": [
    {
     "name": "stdout",
     "output_type": "stream",
     "text": [
      "Variable calculations: \n",
      "8\n",
      "15\n",
      "243\n",
      "-2\n"
     ]
    }
   ],
   "source": [
    "# To define a variable simply equate it to something, variable names can be anything.\n",
    "# Certain Pythonic commands are highlighted in green afterbeing typed (such as print)\n",
    "# and should not be altered as a variable.\n",
    "a=3\n",
    "b=5\n",
    "#These variables can be used to perform mathematical functions:\n",
    "print('Variable calculations: ')\n",
    "print(a+b)\n",
    "print(a*b)\n",
    "print(a**b)\n",
    "print(a-b)"
   ]
  },
  {
   "cell_type": "markdown",
   "metadata": {},
   "source": [
    "### Data types\n",
    "\n",
    "Values within python can take the form of many types. \n",
    "Primarily we will be using the four basic types:\n",
    "+ Integer values\n",
    "+ Floating point values\n",
    "+ Strings\n",
    "+ Boolean\n",
    "\n",
    "An integer (`int`) value are whole numbers that are either negative or positive.\n",
    "\n",
    "A floating point (`float`) value has a decimal point dividing the integer and decimal portions. Floats can also be defined using scientific notation, eg `2.4e6` or `5.1E-9`.\n",
    "\n",
    "A string value is a list of character enclosed in either quotation marks `'` or double quotation marks `\"`.\n",
    "\n",
    "Boolean vaues are returned as either `True` or `False`. These can be defined as variables, or generated as outputs such as `my_string.isnumeric()` which attempts to work out if a string (in this case `my_string`) is all numbers.\n",
    "\n",
    "[Documentation: Boolean](https://www.pythonforbeginners.com/basics/boolean)"
   ]
  },
  {
   "cell_type": "code",
   "execution_count": 6,
   "metadata": {},
   "outputs": [
    {
     "name": "stdout",
     "output_type": "stream",
     "text": [
      "This is a string 15 12.22 15000000000.0\n",
      "<class 'str'> <class 'int'> <class 'float'> <class 'float'>\n"
     ]
    }
   ],
   "source": [
    "string = 'This is a string'\n",
    "integer = 15\n",
    "floatingpoint = 12.22\n",
    "sci_notation = 1.5e10\n",
    "print(string,integer,floatingpoint,sci_notation) # Here we are printing all the above variables\n",
    "print(type(string),type(integer),type(floatingpoint),type(sci_notation))"
   ]
  },
  {
   "cell_type": "markdown",
   "metadata": {},
   "source": [
    "These data types can be interchanged, if the proper conditions are met to allow a transition. This is shown below."
   ]
  },
  {
   "cell_type": "code",
   "execution_count": 7,
   "metadata": {},
   "outputs": [
    {
     "name": "stdout",
     "output_type": "stream",
     "text": [
      "15000000000\n",
      "12\n",
      "15000000000.0\n"
     ]
    }
   ],
   "source": [
    "print(int(sci_notation))\n",
    "print(int(floatingpoint))\n",
    "print(str(sci_notation))"
   ]
  },
  {
   "cell_type": "markdown",
   "metadata": {},
   "source": [
    "As most of the work done in data analysis is numerical floats and integers are the core structure of your work.\n",
    "Interactions between floats and integers must be taken into account in any calculation you perform."
   ]
  },
  {
   "cell_type": "code",
   "execution_count": 8,
   "metadata": {},
   "outputs": [
    {
     "name": "stdout",
     "output_type": "stream",
     "text": [
      "27.22\n",
      "7.5\n",
      "False\n"
     ]
    }
   ],
   "source": [
    "print(integer+floatingpoint)\n",
    "print(integer/2)\n",
    "print(string.isnumeric())"
   ]
  },
  {
   "cell_type": "markdown",
   "metadata": {},
   "source": [
    "### Arrays and Lists\n",
    "\n",
    "Lists and arrays are used to contain many values within a single variable, but each have their own uses.\n",
    "\n",
    "Lists are defined by placing values within a pair of square brackets (`[]`).\n",
    "Arrays are a function of number python (`np`) and are created by using the `np.array()`) function on a list.\n",
    "\n",
    "Lists can be \"initialised\" by creating a blank list like such: `list = []`. This allows for list manipulation, and is expanded on in the loops section.\n",
    "\n",
    "[Documentation: Arrays](https://docs.scipy.org/doc/numpy/user/basics.creation.html)\n",
    "\n",
    "[Documentation: Lists](https://www.pythonforbeginners.com/basics/python-list-manipulation)"
   ]
  },
  {
   "cell_type": "code",
   "execution_count": 9,
   "metadata": {},
   "outputs": [
    {
     "name": "stdout",
     "output_type": "stream",
     "text": [
      "[1.0, 2.0, 3.0, 4.0, 5.0, 6.0, 7.0, 8.0]\n",
      "[3. 4. 8.]\n"
     ]
    }
   ],
   "source": [
    "list1 = [1.,2.,3.,4.,5.,6.,7.,8.]\n",
    "list2 = [3.,4.,8.]\n",
    "\n",
    "array1 = np.array([1.,2.,3.])\n",
    "array2 = np.array([3.,4.,8.])\n",
    "\n",
    "print(list1)\n",
    "print(array2)"
   ]
  },
  {
   "cell_type": "markdown",
   "metadata": {},
   "source": [
    "Lists and arrays can be subtracted, multiplied and added together.\n",
    "\n",
    "These interactions function differently between arrays and lists."
   ]
  },
  {
   "cell_type": "code",
   "execution_count": 10,
   "metadata": {},
   "outputs": [
    {
     "name": "stdout",
     "output_type": "stream",
     "text": [
      "[ 4.  6. 11.]\n",
      "[1.0, 2.0, 3.0, 4.0, 5.0, 6.0, 7.0, 8.0, 3.0, 4.0, 8.0]\n",
      "[ 4.  6. 11.]\n",
      "[ 3.  8. 24.]\n"
     ]
    }
   ],
   "source": [
    "print(array1+array2)\n",
    "print(list1+list2)\n",
    "print(array1+list2)\n",
    "print(array1*array2)"
   ]
  },
  {
   "cell_type": "markdown",
   "metadata": {},
   "source": [
    "Lists and arrays are able to be directly interacted with mathematically.\n",
    "Again these interactions differ between lists and arrays."
   ]
  },
  {
   "cell_type": "code",
   "execution_count": 11,
   "metadata": {},
   "outputs": [
    {
     "name": "stdout",
     "output_type": "stream",
     "text": [
      "[1.0, 2.0, 3.0, 4.0, 5.0, 6.0, 7.0, 8.0, 1.0, 2.0, 3.0, 4.0, 5.0, 6.0, 7.0, 8.0, 1.0, 2.0, 3.0, 4.0, 5.0, 6.0, 7.0, 8.0]\n",
      "[3. 6. 9.]\n"
     ]
    }
   ],
   "source": [
    "print(list1*3)\n",
    "print(array1*3)"
   ]
  },
  {
   "cell_type": "markdown",
   "metadata": {},
   "source": [
    "Lists and arrays can themselves conatin lists and arrays. Nesting lists like this can allow for a large amount of information to be stored within a single variable name.\n",
    "The next step is being able to extract that information."
   ]
  },
  {
   "cell_type": "code",
   "execution_count": 12,
   "metadata": {},
   "outputs": [
    {
     "name": "stdout",
     "output_type": "stream",
     "text": [
      "[[1.0, 2.0, 3.0, 4.0, 5.0, 6.0, 7.0, 8.0], [3.0, 4.0, 8.0]]\n"
     ]
    }
   ],
   "source": [
    "nest1  = [list1,list2]\n",
    "\n",
    "print(nest1)"
   ]
  },
  {
   "cell_type": "markdown",
   "metadata": {},
   "source": [
    "### Data structure, formatting and syntax\n",
    "\n",
    "##### Indexing\n",
    "Python's list structure allows for variables to be indexed, calling specific values within a list.\n",
    "For example you can call the first value in any list by indexing with 0, as python begins counting at 0. If you wanted to call the 5th value you would index by 4.\n",
    "These indexes are placed after the list (or string) as such `list1[0]`.\n",
    "By indexing with negative values you can index from the end of the list/string. \n",
    "Note that -0 and 0 are the same so reverse indexing begins from -1.\n",
    "\n",
    "This indexing method can be expanded by using slicing. \n",
    "Slicing allows for a range of indexes to be obtained.\n",
    "Slicing is performed by using a colon within a standard indexing method, for example `list1[2:5]`.\n",
    "The slicing method can be best pictured as creating an upper and lower limit based on a *slice* between the values. An example of slicing points are shown here`:\n",
    " +---+---+---+---+---+---+\n",
    " | P | y | t | h | o | n |\n",
    " +---+---+---+---+---+---+\n",
    " 0   1   2   3   4   5   6\n",
    "-6  -5  -4  -3  -2  -1`\n",
    "\n",
    "\n",
    "\n",
    "\n",
    "\n",
    "[Documentation: Data structure](https://docs.python.org/3/tutorial/datastructures.html)"
   ]
  },
  {
   "cell_type": "code",
   "execution_count": 13,
   "metadata": {},
   "outputs": [
    {
     "name": "stdout",
     "output_type": "stream",
     "text": [
      "3.0\n",
      "7.0\n",
      "1.0\n",
      "[2.0, 3.0, 4.0, 5.0, 6.0, 7.0, 8.0]\n",
      "[2.0, 3.0, 4.0]\n",
      "[4.0, 5.0]\n"
     ]
    }
   ],
   "source": [
    "print(list1[2])\n",
    "print(list1[-2])\n",
    "print(list1[-0])\n",
    "print(list1[1:])\n",
    "print(list1[1:4])\n",
    "print(list1[3:-3])"
   ]
  },
  {
   "cell_type": "markdown",
   "metadata": {},
   "source": [
    "##### Indenting\n",
    "When a statement requires a specified section of code python asks only for a tabbed region, this is achieved by using the tab key or entering four spaces. \n",
    "This is made more obvious in the if statement and loops section.\n",
    "A tabbed area denotes a section of code that is related to the statement before the tab, often ending with a `:`.\n",
    "Tabbed sections of code can hold additional sections of tabbed code, alllowing for \"stacking\" loops and conditional statements.\n",
    "\n",
    "##### Objects\n",
    "\n",
    "Many objects in python can be diretly interacted with by basic python methods.\n",
    "\n",
    "Some exmaple of list interactions, acting on the object `list`:\n",
    "\n",
    "|Method|Interaction|\n",
    "|:---:|:---|\n",
    "|`list.append(x)`|Adds a value, *x*, at the end of a list\n",
    "|`list.insert(i,x)`|Inserts a value, *x*, in a position, *i*\n",
    "|`list.clear()`|Removes all items from a list\n",
    "|`list.reverse()`|Reverses the order of a list"
   ]
  },
  {
   "cell_type": "code",
   "execution_count": 14,
   "metadata": {},
   "outputs": [
    {
     "name": "stdout",
     "output_type": "stream",
     "text": [
      "[1, 2, 3]\n",
      "[1, 2, 3, 2]\n",
      "[1, 2, 9, 3, 2]\n",
      "[2, 3, 9, 2, 1]\n",
      "[]\n"
     ]
    }
   ],
   "source": [
    "list_a = [1,2,3]\n",
    "print(list_a)\n",
    "list_a.append(2)\n",
    "print(list_a)\n",
    "list_a.insert(2,9)\n",
    "print(list_a)\n",
    "list_a.reverse()\n",
    "print(list_a)\n",
    "list_a.clear()\n",
    "print(list_a)"
   ]
  },
  {
   "cell_type": "markdown",
   "metadata": {},
   "source": [
    "Here we see some interactions with string objects, here denoted by `string`:\n",
    "\n",
    "|Method|Interaction|\n",
    "|:---:|:---|\n",
    "|`string.capitalize()`|Capitalizes the first letter of the string|\n",
    "|`string.upper()`|Capitalizes all letters in the string|\n",
    "|`string.isnumeric()`|Checks if the string consists of only numerical values, providing a true/false response|\n",
    "|`string.strip([char])`|Removes all leading and trailing characters that match the keyword `char`|\n",
    "|`string.replace(old,new)`|Replaces all `old` characters with `new` characters|\n",
    "|`string.find([char])`|Determines if the provided string, `str` is located within the string, providing an index if found and a -1 if no value found|\n"
   ]
  },
  {
   "cell_type": "code",
   "execution_count": 15,
   "metadata": {},
   "outputs": [
    {
     "name": "stdout",
     "output_type": "stream",
     "text": [
      "TEST STRING!\n",
      "False\n",
      "text xtring!\n",
      "test string\n"
     ]
    }
   ],
   "source": [
    "string = 'test string!'\n",
    "print(string.upper())\n",
    "print(string.isnumeric())\n",
    "print(string.replace('s','x'))\n",
    "print(string.strip('!'))"
   ]
  },
  {
   "cell_type": "markdown",
   "metadata": {},
   "source": [
    "##### Mini-task\n",
    "\n",
    "Using the tools above to change the following strings into a useable numbers by removing the letters, and add them together"
   ]
  },
  {
   "cell_type": "code",
   "execution_count": 16,
   "metadata": {
    "collapsed": true
   },
   "outputs": [],
   "source": [
    "num1 = 'ppp145yy5ppppp' \n",
    "num2 = 'www1e2w' # This is in scientific notation\n",
    "num3 = 'ttTTtT45tTWw' \n",
    "\n"
   ]
  },
  {
   "cell_type": "markdown",
   "metadata": {},
   "source": [
    "### If statements\n",
    "\n",
    "If statements are logical conditional tests. These tests are based on the following conditional statements:\n",
    "\n",
    "|Symbol|Conditonal|\n",
    "|:----:|:----------|\n",
    "|`==`|Equal to|\n",
    "|`!=`|Not equal to|\n",
    "|`>`|Greater than|\n",
    "|`<`|Less then|\n",
    "|`>=`|Greater than or equal to|\n",
    "|`<=`|Less than or equal to|\n",
    "\n",
    "These comparisons can be combined with `and`/`or` statements by both direct quoting of `and`/`or` or by combining conditionals such as `1<x<3`.\n",
    "\n",
    "These statements provide a simple `True` or `False` output.\n",
    "\n",
    "\n",
    "\n",
    "[Documentation: If statements](http://anh.cs.luc.edu/handsonPythonTutorial/ifstatements.html)"
   ]
  },
  {
   "cell_type": "code",
   "execution_count": 17,
   "metadata": {},
   "outputs": [
    {
     "name": "stdout",
     "output_type": "stream",
     "text": [
      "False\n",
      "True\n",
      "False\n",
      "True\n",
      "True\n",
      "False\n",
      "True\n",
      "True\n",
      "True\n"
     ]
    }
   ],
   "source": [
    "print(3<2)\n",
    "  \n",
    "x = 5\n",
    "print(x == 5)\n",
    "print(x == 6)\n",
    "print(x != 6)\n",
    "x = 6\n",
    "print(6 == x)\n",
    "print(6 != x)\n",
    "print('hi' == 'h' + 'i')\n",
    "print('HI' != 'hi')\n",
    "print([1  ,  2] != [2,1])"
   ]
  },
  {
   "cell_type": "markdown",
   "metadata": {},
   "source": [
    "If statements use the tabbing format to denote what is constrained by the statement.\n",
    "The statement can be extended by use of `elif:`, allowing for an additional if statement that is only observed if the previous statement if found to be false. If statements can be stoppered by an `else:` statement, which will trigger if all `if` and `elif` statements are found to be false."
   ]
  },
  {
   "cell_type": "code",
   "execution_count": 18,
   "metadata": {},
   "outputs": [
    {
     "name": "stdout",
     "output_type": "stream",
     "text": [
      "test failed\n"
     ]
    }
   ],
   "source": [
    "# Here you can alter the test value to see how it interacts with the loop below\n",
    "test = 100\n",
    "if test <=15:\n",
    "    print('test passed')\n",
    "elif 150 > test > 15:\n",
    "    print('test failed')\n",
    "else:\n",
    "    print('far too high, over ten times too high')"
   ]
  },
  {
   "cell_type": "markdown",
   "metadata": {},
   "source": [
    "### Simple loops\n",
    "\n",
    "In order to perform large tasks we will need to repeat many steps over and over. This can be achieved through loops.\n",
    "\n",
    "There are two core looping techniques: for and while.\n",
    "\n",
    "A for loop is written in the following format:\n",
    "\n",
    "`for i in x:`\n",
    "\n",
    "Here we are interating over the values within `x`. This means that `x` must have a length of at least 1 in order for the loop to perform a task."
   ]
  },
  {
   "cell_type": "code",
   "execution_count": 19,
   "metadata": {},
   "outputs": [
    {
     "name": "stdout",
     "output_type": "stream",
     "text": [
      "1.0\n",
      "2.0\n",
      "3.0\n",
      "4.0\n",
      "5.0\n",
      "6.0\n",
      "7.0\n",
      "8.0\n"
     ]
    }
   ],
   "source": [
    "for i in list1:\n",
    "    print(i)"
   ]
  },
  {
   "cell_type": "markdown",
   "metadata": {},
   "source": [
    "A loop can be placed within another loop (nesting loops) allowing a significant amount of actions to be performed with a small amount of code.\n",
    "\n",
    "For example in the loops below we iterate over both list1 and list2, allowing for 24 calculations to be ran."
   ]
  },
  {
   "cell_type": "code",
   "execution_count": 20,
   "metadata": {},
   "outputs": [
    {
     "name": "stdout",
     "output_type": "stream",
     "text": [
      "[3.0, 4.0, 8.0, 6.0, 8.0, 16.0, 9.0, 12.0, 24.0, 12.0, 16.0, 32.0, 15.0, 20.0, 40.0, 18.0, 24.0, 48.0, 21.0, 28.0, 56.0, 24.0, 32.0, 64.0]\n"
     ]
    }
   ],
   "source": [
    "list3 = []\n",
    "for i in list1:\n",
    "    for j in list2:\n",
    "        list3.append(i*j)\n",
    "print(list3)"
   ]
  },
  {
   "cell_type": "markdown",
   "metadata": {},
   "source": [
    "A while loop uses the following format\n",
    "\n",
    "`while x == 1:`\n",
    "\n",
    "Here we are using the same conditionals as above in the boolean section. The loop will continue as long as the conditional provides a `True` value, allowing for the potential of infinite loops."
   ]
  },
  {
   "cell_type": "code",
   "execution_count": 21,
   "metadata": {},
   "outputs": [
    {
     "name": "stdout",
     "output_type": "stream",
     "text": [
      "0\n",
      "1\n",
      "2\n"
     ]
    }
   ],
   "source": [
    "x=0\n",
    "while x<3:\n",
    "    print(x)\n",
    "    x+=1"
   ]
  },
  {
   "cell_type": "markdown",
   "metadata": {},
   "source": [
    "##### Mini-task\n",
    "\n",
    "In the cell below you will find a string that contains a hidden code.\n",
    "\n",
    "To decipher this code you must take every fifth letter in the string and print it.\n"
   ]
  },
  {
   "cell_type": "code",
   "execution_count": 22,
   "metadata": {
    "collapsed": true
   },
   "outputs": [],
   "source": [
    "code = ' GWVGHHPJKEWHFQLEUZVLFIRHOARFH QFIKTCCOWHMRREIGQFCSASBB PIOSIMTZGSEJKX SDYATGGRAHJPZIEJNZR YQTFSULRIEWQVVCYRUNRTSIAEDEBHTKLSN HDIKCBEQIOXLTZDJRIIETZCZ AUQC'\n",
    "\n"
   ]
  },
  {
   "cell_type": "markdown",
   "metadata": {},
   "source": [
    "### Input\n",
    "\n",
    "The input command allows an input to be called from an external source. This input can be equated to a variable and used within normal code.\n",
    "\n",
    "This method of calling for an external input is not greatly used in data science, but is great for experimenting with your code."
   ]
  },
  {
   "cell_type": "code",
   "execution_count": 23,
   "metadata": {},
   "outputs": [
    {
     "name": "stdout",
     "output_type": "stream",
     "text": [
      "How many pounds does your suitcase weigh? 50\n",
      "There is a ฿250 charge for luggage that heavy.\n",
      "Thank you for your business.\n"
     ]
    }
   ],
   "source": [
    "weight = float(input(\"How many pounds does your suitcase weigh? \"))\n",
    "if weight >= 50:\n",
    "    print(\"There is a \\u0e3f250 charge for luggage that heavy.\")\n",
    "elif 50>weight>10:\n",
    "    print(\"There is a \\u0e3f50 charge for luggage that heavy.\")\n",
    "else:\n",
    "    print(\"There is a no charge for luggage that light.\")\n",
    "print(\"Thank you for your business.\")"
   ]
  },
  {
   "cell_type": "markdown",
   "metadata": {},
   "source": [
    "\n",
    "### Summary\n",
    "\n",
    "##### Importing\n",
    "We begin with importing modules from the inbuilt python install. \n",
    "We can import directly form the name of the module, or call a module from within another. \n",
    "These modules can be renamed in order to reduce retyping long module names.\n",
    "\n",
    "##### Commenting\n",
    "Lines that begin with a `#` are comments, these are ignored by the script and are used to take notes and explain the functionality of the code.\n",
    "Comments can also be used to cause sections of your code to be ignored when the cell is ran.\n",
    "\n",
    "##### Print statements\n",
    "Print statements output a string onto the screen. Within a notebook it will output the string below the cell it is ran from.\n",
    "\n",
    "##### Basic python function\n",
    "Simple and advanced mathematics can be performed by python. These use the standard mathematical opertors of `+`, `-`, `*`(mutiplication), `/`(division), `**`(indexing).\n",
    "\n",
    "The code will follow standard mathematical rules, initially performing any math in parentheses, performing any indexing, any multiplication or division and finally any addition or subtraction.\n",
    "\n",
    "Values are often placed into variables. These variable will maintain the memory of any actions aligned with them, can can be called in future calculations.\n",
    "\n",
    "##### Data classes/types\n",
    "The data that you will create can come in many forms. The core three types are Integer, Float and String.\n",
    "\n",
    "An integer (`int` in `type()` outputs) value consists of only a whole number, with no decimal point. They can be positive or negative.\n",
    "\n",
    "Float (`float` in `type()` outputs) values are numbers with a decimal point in them, these are the values you will likely use most for this workshop.\n",
    "\n",
    "Strings (`str` in `type()` outputs) are simply unicode characters in a list, this can be used to create words.\n",
    "\n",
    "The data types can be identified by using the `type(x)` command, where x is your variable/value.\n",
    "\n",
    "The different types of data interact in specific ways. \n",
    "\n",
    "##### Arrays & Lists\n",
    "Arrays and lists can be used to collect data. Arrays are created using number python and lists are inbuilt to python.\n",
    "In order to create an array the `numpy.array()` command must be used.\n",
    "Arrays and lists may seem to be identical but they interact with each other and basic mathematical funtions differently.\n",
    "\n",
    "##### Data structure\n",
    "Lists and arrays can be used to call specific values called indexing. This can be perfomed by placing a number in square brackets after a list. Using a colon we can slice the list.\n",
    "\n",
    "Some python code requires indenting to identify where that function is working over. These functions include loops and if statements.\n",
    "\n",
    "Many python values can be interacted with using objects, there are simple objects that allow for quick coding and more complex objects that can skip large blocks of manual code.\n",
    "\n",
    "##### Boolean satements\n",
    "A type of class a variable can be is a boolean value (`bool` in `type()` outputs).\n",
    "Boolean values can be used to define if statement conditions, by either calling a True or False value or using \n",
    "\n",
    "##### Simple loops\n",
    "There are two simple looping techniques: for statements and while statements.\n",
    "For statements produce a loop based on predetermined inputs, such as 1 to 10.\n",
    "While loops will continue to loop as long as the boolean operator is met.\n",
    "\n",
    "##### Input\n",
    "Python can ask the user to input their own values, which can be stored in a variable, allowin for direct user interaction without having to open the code to alter the output.\n",
    "\n"
   ]
  },
  {
   "cell_type": "markdown",
   "metadata": {},
   "source": [
    "## Tasks\n",
    "\n",
    "Here we will give you some simple coding tasks that will test the basic skills in python you have learned above.\n",
    "\n",
    "Your first task is to use the random numbers generated below to create a list of simple statistical values, the numbers are stored in the list as strings so will have to be reformatted:\n",
    "+ Calculate the mean\n",
    "+ Calculate the median\n",
    "+ Calculate the standard deviation\n",
    "+ Calculate the variance\n",
    "\n",
    "<p style=\"text-align: center;\">The equation for standard deviation ($\\sigma$) is:</p>\n",
    "<p style=\"text-align: center;\">$ \\sigma = \\sqrt{\\frac{\\sum (x-\\bar{x})^{2}}{N}} $</p>\n",
    "<p style=\"text-align: center;\"> Where $x$ is a value, $\\bar{x}$ is the average, $N$ is the number of values </p>\n",
    "<p style=\"text-align: center;\"> Variance is simply: </p>\n",
    "<p style=\"text-align: center;\"> $Var(x) = \\sigma^{2}$ </p>\n",
    "\n",
    "Your second task is to write a script that will give information about a value generated by input.\n",
    "The code should identify the following things about the input value:\n",
    "+ is the value odd or even?\n",
    "+ is the value prime?\n",
    "+ is the value a square factor?\n",
    "+ Is the value on the Fibonacci sequence?"
   ]
  },
  {
   "cell_type": "code",
   "execution_count": 24,
   "metadata": {
    "collapsed": true
   },
   "outputs": [],
   "source": [
    "# These are the datasets used in your first task.\n",
    "rnd_data = [np.random.randint(1000) for i in range(10000)]\n",
    "nrm_data = [np.random.normal() for i in range(10000)]"
   ]
  },
  {
   "cell_type": "code",
   "execution_count": null,
   "metadata": {},
   "outputs": [],
   "source": []
  },
  {
   "cell_type": "code",
   "execution_count": null,
   "metadata": {},
   "outputs": [],
   "source": []
  },
  {
   "cell_type": "code",
   "execution_count": null,
   "metadata": {
    "collapsed": true
   },
   "outputs": [],
   "source": []
  },
  {
   "cell_type": "code",
   "execution_count": null,
   "metadata": {
    "collapsed": true
   },
   "outputs": [],
   "source": []
  },
  {
   "cell_type": "code",
   "execution_count": null,
   "metadata": {
    "collapsed": true
   },
   "outputs": [],
   "source": []
  }
 ],
 "metadata": {
  "kernelspec": {
   "display_name": "Python 3",
   "language": "python",
   "name": "python3"
  },
  "language_info": {
   "codemirror_mode": {
    "name": "ipython",
    "version": 3
   },
   "file_extension": ".py",
   "mimetype": "text/x-python",
   "name": "python",
   "nbconvert_exporter": "python",
   "pygments_lexer": "ipython3",
   "version": "3.6.3"
  }
 },
 "nbformat": 4,
 "nbformat_minor": 2
}
