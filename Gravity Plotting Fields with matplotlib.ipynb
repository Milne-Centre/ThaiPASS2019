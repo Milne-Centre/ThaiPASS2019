{
 "cells": [
  {
   "cell_type": "markdown",
   "metadata": {},
   "source": [
    "# Gravity: Plotting Fields with matplotlib.\n",
    "\n",
    "The force exerted on a rocket as it leaves the earth's surface due to the mass of the earth is given by the equation:\n",
    "\n",
    "$F = \\frac{Gm_{1}m_{2}}{r^{2}}$\n",
    "\n",
    "Define a function to calculate this force as the rocket travels from the surface of the earth to a distance X, and then evaluate this for 3 million points between the surface of the earth and a distance of 38,400 km. Assume a constant mass for the rocket of 2.3 $\\times$10$^{6}$ kg.\n"
   ]
  },
  {
   "cell_type": "code",
   "execution_count": null,
   "metadata": {},
   "outputs": [],
   "source": []
  },
  {
   "cell_type": "markdown",
   "metadata": {},
   "source": [
    "Do the same for a rocket traveling from the moon to the earth:"
   ]
  },
  {
   "cell_type": "code",
   "execution_count": null,
   "metadata": {},
   "outputs": [],
   "source": []
  },
  {
   "cell_type": "markdown",
   "metadata": {},
   "source": [
    "Find the resultant force on a rocket traveling on the straight line between the center of masses of the earth and the moon. At what distance is the resultant force 0?"
   ]
  },
  {
   "cell_type": "code",
   "execution_count": null,
   "metadata": {},
   "outputs": [],
   "source": []
  },
  {
   "cell_type": "markdown",
   "metadata": {},
   "source": [
    "The gravitational field from a point source is given by the equation:\n",
    "\n",
    "$g = \\frac{F}{m}$\n",
    "\n",
    "Find the magnitude and direction of the field at each point on this line."
   ]
  },
  {
   "cell_type": "code",
   "execution_count": null,
   "metadata": {},
   "outputs": [],
   "source": []
  },
  {
   "cell_type": "markdown",
   "metadata": {},
   "source": [
    "Generate a plot using the quiver and contour methods of matplotlib.pyplot for the field from two masses in the xy plane on a test mass of 1 kg.\n",
    "\n",
    "The documentation for Quiver and Contour can be found at:\n",
    "\n",
    "https://matplotlib.org/3.1.1/api/_as_gen/matplotlib.pyplot.quiver.html\n",
    "\n",
    "https://matplotlib.org/3.1.1/api/_as_gen/matplotlib.pyplot.contour.html\n",
    "\n",
    "Mass one is 2.3 $\\times$10$^{6}$ kg at the origin.\n",
    "\n",
    "Mass two is 4.8 $\\times$10$^{7}$ kg x = 1.2 $\\times$10$^{2}$ m and y = 0"
   ]
  },
  {
   "cell_type": "code",
   "execution_count": null,
   "metadata": {},
   "outputs": [],
   "source": []
  },
  {
   "cell_type": "markdown",
   "metadata": {},
   "source": [
    "Add a third mass of 3.2 $\\times$10$^{6}$ kg at x = 6 $\\times$10$^{2}$ m and y = 3 $\\times$10$^{2}$ m"
   ]
  },
  {
   "cell_type": "code",
   "execution_count": null,
   "metadata": {},
   "outputs": [],
   "source": []
  }
 ],
 "metadata": {
  "kernelspec": {
   "display_name": "Python 3",
   "language": "python",
   "name": "python3"
  },
  "language_info": {
   "codemirror_mode": {
    "name": "ipython",
    "version": 3
   },
   "file_extension": ".py",
   "mimetype": "text/x-python",
   "name": "python",
   "nbconvert_exporter": "python",
   "pygments_lexer": "ipython3",
   "version": "3.6.5"
  }
 },
 "nbformat": 4,
 "nbformat_minor": 2
}
