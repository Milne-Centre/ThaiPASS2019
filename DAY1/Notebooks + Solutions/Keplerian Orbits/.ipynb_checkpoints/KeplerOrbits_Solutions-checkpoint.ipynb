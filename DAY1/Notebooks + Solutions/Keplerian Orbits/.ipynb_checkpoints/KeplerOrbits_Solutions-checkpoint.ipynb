{
 "cells": [
  {
   "cell_type": "markdown",
   "metadata": {},
   "source": [
    "## Kepler's Laws Notebook\n",
    "\n",
    "### Task 1 - Orbital Periods\n",
    "\n",
    "For this project, we will take a well known equation and turn it into a function so that we can compute the period of orbit of any planet around any star.\n",
    "\n",
    "Kepler's Third Law of Planetary Motion allows us to calculate the motion of planets in orbit around a star.\n",
    "\n",
    "Your task is to take the following equation:\n",
    "\n",
    "### $T^2 = \\frac{4\\pi^2 a^3} {GM}$\n",
    "\n",
    "Where T is the period of rotation, G is the universal gravitational constant, M is the mass of the central object and a is the length of the semi-major axis of the ellipse.\n",
    "\n",
    "Make sure to leave detailed comments as you work to ensure that the next time you look at your code you can quickly recognise what it does.\n",
    "\n",
    "Now, in the cell below, design a function that, given $a$ and $M$ as inputs, returns the period of rotation of a planet."
   ]
  },
  {
   "cell_type": "code",
   "execution_count": null,
   "metadata": {},
   "outputs": [],
   "source": []
  },
  {
   "cell_type": "markdown",
   "metadata": {},
   "source": [
    "Taking this function, determine the orbital period of a planet at distances between 1 AU and 100 AU for 10 masses of stars between 0.1 and 10 times the mass of the sun (**arange** or **linspace** will help with this).\n",
    "\n",
    "Ensure that your plots are have both axes labelled."
   ]
  },
  {
   "cell_type": "code",
   "execution_count": null,
   "metadata": {},
   "outputs": [],
   "source": []
  },
  {
   "cell_type": "markdown",
   "metadata": {},
   "source": [
    "Finally, take the orbital period for each star mass and make a plot of its dependence on distance from the star."
   ]
  },
  {
   "cell_type": "code",
   "execution_count": null,
   "metadata": {},
   "outputs": [],
   "source": []
  },
  {
   "cell_type": "markdown",
   "metadata": {},
   "source": [
    "### Task 2 - Orbital Velocity\n",
    "\n",
    "Using the following equation we can calculate the orbital velocity for a given mass and radius. The equation is derived by setting Newton's equation for the gravitational force between two massive bodies equal to the centripetal force equation.\n",
    "\n",
    "### $\\frac{GM}r = \\nu^{2}$\n",
    "\n",
    "Your first task is to create a function that, given $M$ and $r$ as input, returns the orbital velocity."
   ]
  },
  {
   "cell_type": "code",
   "execution_count": null,
   "metadata": {},
   "outputs": [],
   "source": []
  },
  {
   "cell_type": "markdown",
   "metadata": {},
   "source": [
    "Your next task is to examine how varying stellar mass affects orbital velocity at a given distance. \n",
    "\n",
    "Produce a plot that shows the orbital velocities at 1 AU, for 10 masses between 0.1 to 10 solar masses."
   ]
  },
  {
   "cell_type": "code",
   "execution_count": null,
   "metadata": {},
   "outputs": [],
   "source": []
  },
  {
   "cell_type": "markdown",
   "metadata": {},
   "source": [
    "Your next task is to examine the effect of orbital radius on orbital velocities.\n",
    "\n",
    "Produce a plot that shows the orbital velocities for a planet at distances between 0.1AU and 100AU, orbiting a star of the same mass as the Sun. "
   ]
  },
  {
   "cell_type": "code",
   "execution_count": null,
   "metadata": {},
   "outputs": [],
   "source": []
  },
  {
   "cell_type": "markdown",
   "metadata": {
    "collapsed": true
   },
   "source": [
    "### Task 3 - Elliptical orbits\n",
    "\n",
    "Keplar's First Law states that all planets move around the Sun in elliptical orbits, having the Sun (or other star) as one of the foci.\n",
    "\n",
    "An orbit that appears more stretched out is said to be more *eccentric*. *Eccentricity* is defined as the fraction of the ellipse which separates the focus from the centre, and is denoted by an $e$ in the following equations.\n",
    "\n",
    "\n",
    "![Keplar Laws Orbital Diagram](http://hyperphysics.phy-astr.gsu.edu/hbase/imgmec/kep.gif \"Keplar Laws Orbital Diagram\")\n",
    "\n",
    "Diagram taken from: http://hyperphysics.phy-astr.gsu.edu/hbase/kepler.html#c2\n",
    "\n",
    "The diagram above shows the geometry of an orbit. The key points to consider are the perihelion radius ($R_{p}$), aphelion radius ($R_{a}$), semi-major axis ($a$) and eccentricity ($e$).\n",
    "\n",
    "The perihelion is the point at which the orbit brings the object closest to the Sun. \n",
    "The aphelion is the point at which the orbit takes the object furthest from the Sun. \n",
    "The semi-major axis is the largest radius of the ellipse.\n",
    "\n",
    "Your first task is to combine the above equations and the equation you created in task 1, allowing you to calculate the time period of an orbit with a specific perihelion/aphelion radius, eccentricity and stellar mass."
   ]
  },
  {
   "cell_type": "code",
   "execution_count": null,
   "metadata": {},
   "outputs": [],
   "source": []
  },
  {
   "cell_type": "markdown",
   "metadata": {
    "collapsed": true
   },
   "source": [
    "Using the function you created above, we will examine the effect of eccentricity on orbital period for a star the same mass as the Sun (1 solar mass), at a perihelion radius of 1 AU.\n",
    "\n",
    "We will examine what the orbital period of the Earth would be if it had the eccentricity of the other planets in the solar system, using the following table:\n",
    "\n",
    "|Planet|$e$|\n",
    "|:---:|:---:|\n",
    "|Mercury| .206|\n",
    "|Venus| .0068|\n",
    "|Earth| .0167|\n",
    "|Mars| .0934|\n",
    "|Jupiter| .0485|\n",
    "|Saturn|.0556|\n",
    "|Uranus| .0472|\n",
    "|Neptune|.0086|\n",
    "|Pluto| .25|\n",
    "\n",
    "Plot these as planets on the x-axis and orbital period on the y-axis"
   ]
  },
  {
   "cell_type": "code",
   "execution_count": null,
   "metadata": {},
   "outputs": [],
   "source": []
  },
  {
   "cell_type": "markdown",
   "metadata": {
    "collapsed": true
   },
   "source": [
    "### Task 4 - Escape velocity\n",
    "\n",
    "By equating kinetic energy and gravitational potential energy we can calculate the velocity at which the object will escape the gravitational pull of the object it is orbiting. This is the escape velocity.\n",
    "\n",
    "### $\\frac{1}2 mv^{2} = \\frac{GMm}{r}$\n",
    "\n",
    "### $v_{escape} \\geq \\sqrt{\\frac{2GM}r}$\n",
    "\n",
    "\n",
    "\n",
    "First, define a function which will calculate the escape velocity of an object, given its radius and the mass of the central object."
   ]
  },
  {
   "cell_type": "code",
   "execution_count": null,
   "metadata": {},
   "outputs": [],
   "source": []
  },
  {
   "cell_type": "markdown",
   "metadata": {
    "collapsed": true
   },
   "source": [
    "Next define a function which will compare the orbital velocities and escape velocities of an object. It should print a string which states whether the object will continue to orbit or escape."
   ]
  },
  {
   "cell_type": "code",
   "execution_count": null,
   "metadata": {},
   "outputs": [],
   "source": []
  }
 ],
 "metadata": {
  "kernelspec": {
   "display_name": "Python 2",
   "language": "python",
   "name": "python2"
  },
  "language_info": {
   "codemirror_mode": {
    "name": "ipython",
    "version": 2
   },
   "file_extension": ".py",
   "mimetype": "text/x-python",
   "name": "python",
   "nbconvert_exporter": "python",
   "pygments_lexer": "ipython2",
   "version": "2.7.15"
  }
 },
 "nbformat": 4,
 "nbformat_minor": 2
}
