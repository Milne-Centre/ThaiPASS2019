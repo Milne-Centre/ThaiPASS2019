{
 "cells": [
  {
   "cell_type": "markdown",
   "metadata": {},
   "source": [
    "## Observational Plotting Notebook\n",
    "\n",
    "The previous notebooks have introduced you to the basics of python. In this notebook, we will be using those basic skills to produce a graph using real astronomical data.\n",
    "\n",
    "You will find some data included with the starter pack. The names of the files are:\n",
    "\n",
    "M13.csv\n",
    "\n",
    "NGC2420.csv\n",
    "\n",
    "NGC6791.csv\n",
    "\n",
    "Each of these contains data on many stars - their colour and how bright they are.\n",
    "\n",
    "## Task 1 \n",
    "\n",
    "First, load the data from these three files. find out how long the files are, how many colums each has and the names of those columns. Write your code in the cell below.\n",
    "\n",
    "Remember to use something like **genfromtxt** or **pandas** to load the data, and functions like **len** and **shape** to find the dimenstions of the data. The delimiter for this file is a comma ',' which will need to be specified when you load the data.\n",
    "\n",
    "Give your data a meaningful title, so that you can tell them appart"
   ]
  },
  {
   "cell_type": "code",
   "execution_count": 1,
   "metadata": {
    "collapsed": true
   },
   "outputs": [],
   "source": [
    "# Import modules you will need for the project:\n",
    "import numpy as np\n",
    "import matplotlib.pyplot as plt"
   ]
  },
  {
   "cell_type": "code",
   "execution_count": 2,
   "metadata": {},
   "outputs": [
    {
     "name": "stdout",
     "output_type": "stream",
     "text": [
      "(25240, 13)  M_13_data\n",
      "(3071, 13)  NGC_2420_data\n",
      "(10423, 13)  NGC_6791_data\n"
     ]
    }
   ],
   "source": [
    "# Load the data to appropriate objects\n",
    "\n",
    "M_13_data     = np.genfromtxt('M13.csv',delimiter=',',skip_header=1)\n",
    "NGC_2420_data = np.genfromtxt('NGC2420.csv',delimiter=',',skip_header=1)\n",
    "NGC_6791_data = np.genfromtxt('NGC6791.csv',delimiter=',',skip_header=1)\n",
    "\n",
    "# Find the number of columns and rows in each\n",
    "\n",
    "print(np.shape(M_13_data),' M_13_data')\n",
    "print(np.shape(NGC_2420_data),' NGC_2420_data')\n",
    "print(np.shape(NGC_6791_data),' NGC_6791_data')"
   ]
  },
  {
   "cell_type": "code",
   "execution_count": 3,
   "metadata": {},
   "outputs": [
    {
     "data": {
      "text/plain": [
       "['DAOPHOTID',\n",
       " 'RA',\n",
       " 'DEC',\n",
       " 'u',\n",
       " 'uError',\n",
       " 'g',\n",
       " 'gError',\n",
       " 'r',\n",
       " 'rError',\n",
       " 'i',\n",
       " 'iError',\n",
       " 'z',\n",
       " 'zError']"
      ]
     },
     "execution_count": 3,
     "metadata": {},
     "output_type": "execute_result"
    }
   ],
   "source": [
    "# A different way of generating data:\n",
    "\n",
    "with open('M13.csv','r') as M_13:\n",
    "    headers = M_13.readline().rstrip()\n",
    "\n",
    "    \n",
    "# To obtain the individual headers, we split the headers list at ','\n",
    "\n",
    "headers = headers.split(',')\n",
    "\n",
    "# All of the headers are the same between the files\n",
    "# we can just do this once for all of them\n",
    "\n",
    "headers\n",
    "#Demonstrating we have imported the headers correctly."
   ]
  },
  {
   "cell_type": "markdown",
   "metadata": {},
   "source": [
    "## Task 2\n",
    "\n",
    "Now that you have loaded the data, we will have to manipulate it to get the information we need.\n",
    "\n",
    "We want two of the columns from this data: g and r. For each of the data sets, make an array of the g and r values from these files. You may also wish to make arrays of the other data in the file if you are interested in exploring the data more."
   ]
  },
  {
   "cell_type": "code",
   "execution_count": 4,
   "metadata": {
    "collapsed": true
   },
   "outputs": [],
   "source": [
    "# find the position of g and r in the columns list by indexing our headers:\n",
    "\n",
    "g_ind = headers.index('g')\n",
    "r_ind = headers.index('r')\n",
    "\n",
    "# Use these header indexes to find the data in the large arrays\n",
    "\n",
    "g_M_13     = M_13_data[:,g_ind]\n",
    "r_M_13     = M_13_data[:,r_ind]\n",
    "\n",
    "g_NGC_2420 = NGC_2420_data[:,g_ind]\n",
    "r_NGC_2420 = NGC_2420_data[:,r_ind]\n",
    "\n",
    "g_NGC_6791 = NGC_6791_data[:,g_ind]\n",
    "r_NGC_6791 = NGC_6791_data[:,r_ind]"
   ]
  },
  {
   "cell_type": "markdown",
   "metadata": {},
   "source": [
    "## Task 3\n",
    "\n",
    "Now that you have the data that you need, make a **scatter** plot of this data for each of the files. Make the **marker size** quite small (the data is quite closely grouped) around 0.05 is a good size to start with. Plot r on the y axis, and $g-r$ on the x.\n",
    "\n",
    "Once this is done, set **limits** on the x and y axis where most of the data is found (some of the data is not physical, so you'll have to decide which ones to not include).\n",
    "\n",
    "Also include **labels** on your axis, for easy reading.\n",
    "\n",
    "How do the three plots compare? are there any similarities or differences?"
   ]
  },
  {
   "cell_type": "code",
   "execution_count": 5,
   "metadata": {
    "collapsed": true
   },
   "outputs": [
    {
     "data": {
      "text/plain": [
       "Text(0.5,1,'M13 Cluster')"
      ]
     },
     "execution_count": 5,
     "metadata": {},
     "output_type": "execute_result"
    },
    {
     "data": {
      "image/png": "[encoded data removed]",
      "text/plain": [
       "<Figure size 432x288 with 1 Axes>"
      ]
     },
     "metadata": {},
     "output_type": "display_data"
    }
   ],
   "source": [
    "# Produce g-r array\n",
    "\n",
    "g_r_M13 = g_M_13-r_M_13\n",
    "\n",
    "# Plot: M_13 using matplotlib.pyplot.scatter\n",
    "\n",
    "plt.scatter(g_r_M13,r_M_13,s=0.02)\n",
    "\n",
    "#Here we are setting our limits on the x-axis.\n",
    "#plt.xlim(-1,2)\n",
    "#Here we are setting our limits on the y-axis.\n",
    "#plt.ylim(12,23)\n",
    "#Here we set the x-axis label.\n",
    "plt.xlabel('g-r',fontsize=15)\n",
    "#Here we set the y-axis label.\n",
    "plt.ylabel('r',fontsize=15)\n",
    "#Here we give our diagram a title.\n",
    "plt.title('M13 Cluster')"
   ]
  },
  {
   "cell_type": "markdown",
   "metadata": {},
   "source": [
    "## Task 4\n",
    "\n",
    "Using the data loaded above we will attempt a new type of plot, a 2-d histogram. This will allow for data points to be grouped into bins. These bins will show different colours for different amounts of data within.\n",
    "\n",
    "We will be using this to briefly explain how to read and use documentation.\n",
    "\n",
    "The following link is the documentation for 2-d histograms: https://matplotlib.org/api/_as_gen/matplotlib.pyplot.hist2d.html\n",
    "\n",
    "As this function is part of matplotlib we will need to import the correct modules (matplotlib.pyplot).\n",
    "At the start of the documentation we can see the keywords that fit this specific function. These keywords are further explained below the initial keyword listing. Specific examples of how the code functions can often be found after the important information about key values.\n",
    "\n",
    "Some keywords are general over multiple functions (such as plotting styles) and are denoted by **kwargs\n",
    "\n",
    "Using the above data create a 2-d histogram with right ascension on the x axis and declination on the y-axis.\n",
    "This will give a positional plot of the three clusters of stars."
   ]
  },
  {
   "cell_type": "markdown",
   "metadata": {},
   "source": [
    "Using the same axis as the above task plot the stars positions with an overlay of $g-r$. This array has already been created as part of task 3.\n",
    "\n",
    "This plot should be performed with scatter, using the keyword color and cmap. Ensure that your g-r, right ascension and declination arrays are the same length."
   ]
  },
  {
   "cell_type": "markdown",
   "metadata": {},
   "source": [
    "As a final task set your marker size to be defined by the luminosity of the star. This data can be found in the file.\n",
    "\n",
    "Again ensure that your arrays are all the same length."
   ]
  },
  {
   "cell_type": "code",
   "execution_count": 6,
   "metadata": {
    "collapsed": true
   },
   "outputs": [
    {
     "data": {
      "text/plain": [
       "Text(0.5,1,'M13 Cluster')"
      ]
     },
     "execution_count": 6,
     "metadata": {},
     "output_type": "execute_result"
    },
    {
     "data": {
      "image/png": "[encoded data removed]",
      "text/plain": [
       "<Figure size 432x288 with 1 Axes>"
      ]
     },
     "metadata": {},
     "output_type": "display_data"
    }
   ],
   "source": [
    "# Oops! There appears to be spurious data. In astronomy this happens a lot. Some data are not resolvable in certain filters in the SDSS telescope data.\n",
    "# If a star's light is not bright enough for the telescope and filter used, it will blend with the background noise. \n",
    "# When this happens, the programmed \"pipeline\" (a piece of code that puts the observation data into an accessible format), will assign an unrealistic value (e.g. 99.99).\n",
    "\n",
    "# We need to correct for this and remove the g-r values >50 and <-50. A simple way to do this is to use a numpy module called \"where\".\n",
    "# \"numpy.where()\" allows us to write conditional boolean logic statements to produce an array of indicies where the conditions are met.\n",
    "# For example if we have, testar = np.array([some values]), then we write condition = np.where(testar <= 10.0).\n",
    "# The output of the array named\"condition\" will be a series of numbers that represent indicies of an array.\n",
    "# So, if I were to print(testar[condition]), this will output the testar array where values are <= 10.0.\n",
    "\n",
    "#Therefore\n",
    "\n",
    "spurious_g13 = np.where(g_M_13 < 90.0) \n",
    "\n",
    "#Then, remake the arrays of our plot by reassigning the variables as below for g\n",
    "\n",
    "g_M_13 = g_M_13[spurious_g13]\n",
    "r_M_13 = r_M_13[spurious_g13]\n",
    "\n",
    "#Now for r\n",
    "\n",
    "spurious_r13 = np.where(r_M_13 < 90.0)\n",
    "\n",
    "g_M_13 = g_M_13[spurious_r13]\n",
    "r_M_13 = r_M_13[spurious_r13]\n",
    "\n",
    "#Reassign g-r array\n",
    "\n",
    "g_r_M13 = g_M_13 - r_M_13\n",
    "\n",
    "#Now, let's try the plot again...\n",
    "\n",
    "plt.scatter(g_r_M13,r_M_13,s=0.02)\n",
    "#Here we set the x-axis label.\n",
    "plt.xlabel('g-r',fontsize=15)\n",
    "#Here we set the y-axis label.\n",
    "plt.ylabel('r',fontsize=15)\n",
    "#Here we give our diagram a title.\n",
    "plt.title('M13 Cluster')"
   ]
  }
 ],
 "metadata": {
  "kernelspec": {
   "display_name": "Python 3",
   "language": "python",
   "name": "python3"
  },
  "language_info": {
   "codemirror_mode": {
    "name": "ipython",
    "version": 3
   },
   "file_extension": ".py",
   "mimetype": "text/x-python",
   "name": "python",
   "nbconvert_exporter": "python",
   "pygments_lexer": "ipython3",
   "version": "3.6.5"
  }
 },
 "nbformat": 4,
 "nbformat_minor": 2
}
