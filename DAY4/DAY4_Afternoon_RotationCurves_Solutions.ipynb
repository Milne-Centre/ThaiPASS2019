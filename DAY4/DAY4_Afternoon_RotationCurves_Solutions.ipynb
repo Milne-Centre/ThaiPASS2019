{
 "cells": [
  {
   "cell_type": "markdown",
   "metadata": {},
   "source": [
    "# Rotation curves notebook\n",
    "\n",
    "You have just been introduced to the idea of rotation curves of galaxies and the questions that arise from these measurements. This task will allow you to compare real observational data to theoretical models of what galaxies are made of. \n",
    "\n",
    "For this task you will need to draw on all the skills and physics you have learnt so far. \n"
   ]
  },
  {
   "cell_type": "markdown",
   "metadata": {},
   "source": [
    "## Task 1\n",
    "\n",
    "You have a file that contains the orbital velocities of stars in a galaxy and their radial distance from the centre of the galaxy. You will need use this data to construct the *rotation curve* of the galaxy. \n",
    "\n",
    "You should use the data file *rc100224.dat*\n",
    "\n",
    "The first column of the file contains the radius (kpc: kiloparsec) and the second column contains observed orbital velocity ($km/s$)."
   ]
  },
  {
   "cell_type": "code",
   "execution_count": 1,
   "metadata": {},
   "outputs": [],
   "source": [
    "import numpy as np\n",
    "import math\n",
    "import matplotlib.pyplot as plt"
   ]
  },
  {
   "cell_type": "code",
   "execution_count": 2,
   "metadata": {},
   "outputs": [],
   "source": [
    "rcdata = np.loadtxt('rc100224.dat',skiprows=1)"
   ]
  },
  {
   "cell_type": "code",
   "execution_count": 3,
   "metadata": {},
   "outputs": [],
   "source": [
    "rcdata = np.array(rcdata)\n",
    "radius = rcdata[:,0]\n",
    "orbvel = rcdata[:,1]"
   ]
  },
  {
   "cell_type": "code",
   "execution_count": 11,
   "metadata": {},
   "outputs": [
    {
     "data": {
      "image/png": "[encoded data removed]",
      "text/plain": [
       "<Figure size 432x288 with 1 Axes>"
      ]
     },
     "metadata": {},
     "output_type": "display_data"
    }
   ],
   "source": [
    "plt.plot(radius,orbvel)\n",
    "#plt.xscale('log')\n",
    "plt.ylim(0,300)\n",
    "plt.xlim(0,50)\n",
    "plt.ylabel('orbital velocity, km/s')\n",
    "plt.xlabel('radius, kpc')\n",
    "plt.show()"
   ]
  },
  {
   "cell_type": "markdown",
   "metadata": {},
   "source": [
    "## Task 2"
   ]
  },
  {
   "cell_type": "markdown",
   "metadata": {},
   "source": [
    "For this task you will use a real mass distribution data from a model of the Andromeda galaxy (M31) to calculate the orbital velocities. The mass distribution is of *only baryonic matter* (stars and gas). You will use the mass distribution to calculate and plot the rotation curve of the galaxy.\n",
    "\n",
    "From the data file, remember that you need to use the *cumulative/enclosed mass*.\n",
    "\n",
    "You can then use *Kepler's Laws of Planetary Motion* (see day one lecture slides) to calculate the orbital velocities of stars as a function of radial distance and plot this as a line graph.  \n",
    "\n",
    "You should then compare your graph to the one you made in task one and comment on any differences you find.\n",
    "\n",
    "\n",
    "You should use the data file *M31_mass2.dat*\n",
    "\n",
    "The first column of the file contains the radius (pc) and the second column contains the mass at that radius. \n"
   ]
  },
  {
   "cell_type": "code",
   "execution_count": 5,
   "metadata": {},
   "outputs": [],
   "source": [
    "def orbVel(r,mass):\n",
    "    G=4.30091e-6\n",
    "    vel = [0]\n",
    "    for i in range(len(r)-1):\n",
    "        tempv = np.sqrt(G*mass[i+1]/r[i+1])\n",
    "        vel.append(tempv)\n",
    "    return vel"
   ]
  },
  {
   "cell_type": "code",
   "execution_count": 6,
   "metadata": {},
   "outputs": [],
   "source": [
    "M31data = np.loadtxt('M31_mass2.dat',skiprows=1)\n",
    "M31data = np.array(M31data)\n",
    "M31radius = M31data[:,0]/1000\n",
    "M31mass = M31data[:,1]\n",
    "\n",
    "M31vel = orbVel(M31radius, M31mass)"
   ]
  },
  {
   "cell_type": "code",
   "execution_count": 7,
   "metadata": {},
   "outputs": [
    {
     "data": {
      "text/plain": [
       "Text(0.5,0,'radius, kpc')"
      ]
     },
     "execution_count": 7,
     "metadata": {},
     "output_type": "execute_result"
    },
    {
     "data": {
      "image/png": "[encoded data removed]",
      "text/plain": [
       "<Figure size 432x288 with 1 Axes>"
      ]
     },
     "metadata": {},
     "output_type": "display_data"
    }
   ],
   "source": [
    "plt.plot(radius,orbvel)\n",
    "plt.plot(M31radius,M31vel)\n",
    "\n",
    "plt.ylim(0,300)\n",
    "plt.xlim(0,50)\n",
    "plt.ylabel('orbital velocity, km/s')\n",
    "plt.xlabel('radius, kpc')"
   ]
  },
  {
   "cell_type": "markdown",
   "metadata": {},
   "source": [
    "## Task 3a"
   ]
  },
  {
   "cell_type": "markdown",
   "metadata": {},
   "source": [
    "We will now modify our model from task two and see how this affects the rotation curve. To modify our model we will add a *non-baryonic component* to the mass distribution in the form of a dark matter mass profile.\n",
    "\n",
    "For this task, you will first define a *density profile*. You will have to calculate the mass distribution in part b from this density profile. This is done by first making a density profile using the radii values in the previous data files and then using a forward Euler solver function to get the mass function.\n",
    "\n",
    "Then, add the dark matter mass to the mass distribution in task two. After adding the mass, you should plot the rotation curve of the new mass distribution.\n",
    "\n",
    "The density profile follows the NFW-profile (see lecture slides for more information).\n",
    "\n",
    "For the constants, use: $\\rho_c = 2.1 \\times 10^3, r_c = 16.5 \\times 10^3$\n",
    "For initial conditions, use $\\rho(r)\\rvert_{r = 0} = \\rho_c$\n"
   ]
  },
  {
   "cell_type": "code",
   "execution_count": 8,
   "metadata": {},
   "outputs": [],
   "source": [
    "def rhoCal(r):\n",
    "#     r = np.array(r)\n",
    "    rhozero = 2.1e3\n",
    "    scaleradius = 16.5e3\n",
    "#     rhozero = 2.0e+7\n",
    "#     scaleradius = 14.5e2\n",
    "    rhoOut = [rhozero]\n",
    "    for i in range(len(r)-1):\n",
    "        temprho = rhozero / ((r[i+1]/scaleradius)*(1 + r[i+1]/scaleradius)**2)\n",
    "        rhoOut.append(temprho)\n",
    "    return rhoOut\n"
   ]
  },
  {
   "cell_type": "markdown",
   "metadata": {},
   "source": [
    "## Task 3b\n",
    "This part of the task is to calculate the dark matter mass profile and add it to mass distribution in task two. After adding the mass, you should plot the rotation curve of the new mass distribution.\n",
    "\n",
    "Recall that: \n",
    "\n",
    "$M(r)= \\int 4  \\pi r^2 \\rho(r) dr$,  from which it follows that:\n",
    "\n",
    "$M'(r) = \\dfrac{dM(r)}{dr} = 4 \\pi r^2 \\rho(r)$,    which means $M_{n+1} = M_n + h \\left( 4 \\pi r_n^2 \\rho_n  \\right)$\n",
    "\n",
    "And remember that you need to use the enclosed mass -- **not** the mass at point $r$.\n",
    "\n",
    "For initial conditions, use $M(0) = 0$. Use $h = r_{n+1} - r_n$ and $r$ to be the M31 radius data."
   ]
  },
  {
   "cell_type": "code",
   "execution_count": 12,
   "metadata": {},
   "outputs": [
    {
     "name": "stdout",
     "output_type": "stream",
     "text": [
      "34649995800.000374\n",
      "779941046075.6361\n"
     ]
    }
   ],
   "source": [
    "def DM(r, rho):\n",
    "    dmmass = [0]\n",
    "    for i in range(len(r)-1):\n",
    "        h = (r[i+1]-r[i])\n",
    "        mTemp = 4*np.pi*r[i]**2*rho[i]*h\n",
    "        mTemp2 = dmmass[i] + mTemp\n",
    "        dmmass.append(mTemp2)\n",
    "    return dmmass\n",
    "\n",
    "dmRho = rhoCal(M31radius)\n",
    "# testR = np.arange(0., 60*1e3,1.)\n",
    "# dmRho = rho(testR)\n",
    "print(max(dmRho))\n",
    "dmMass = DM(M31radius, dmRho)\n",
    "print(max(dmMass))"
   ]
  },
  {
   "cell_type": "code",
   "execution_count": 13,
   "metadata": {},
   "outputs": [
    {
     "name": "stdout",
     "output_type": "stream",
     "text": [
      "979797285156.9661\n"
     ]
    },
    {
     "data": {
      "image/png": "[encoded data removed]",
      "text/plain": [
       "<Figure size 432x288 with 1 Axes>"
      ]
     },
     "metadata": {},
     "output_type": "display_data"
    }
   ],
   "source": [
    "dmRho = rhoCal(M31radius)\n",
    "dmMass = DM(M31radius, dmRho)\n",
    "DMandBaryonic = np.array(dmMass) + np.array(M31mass)\n",
    "print(max(DMandBaryonic))\n",
    "\n",
    "DMvel = orbVel(M31radius,DMandBaryonic)\n",
    "\n",
    "plt.plot(radius,orbvel)\n",
    "plt.plot(M31radius,M31vel)\n",
    "plt.plot(M31radius,DMvel)\n",
    "# plt.plot(M31radius,M31vel)\n",
    "plt.ylim(0,300)\n",
    "plt.xlim(0,50)\n",
    "plt.ylabel('orbital velocity, km/s')\n",
    "plt.xlabel('radius, kpc')\n",
    "plt.savefig('obs_bary_DM.png')"
   ]
  },
  {
   "cell_type": "code",
   "execution_count": null,
   "metadata": {},
   "outputs": [],
   "source": []
  }
 ],
 "metadata": {
  "kernelspec": {
   "display_name": "Python 3",
   "language": "python",
   "name": "python3"
  },
  "language_info": {
   "codemirror_mode": {
    "name": "ipython",
    "version": 3
   },
   "file_extension": ".py",
   "mimetype": "text/x-python",
   "name": "python",
   "nbconvert_exporter": "python",
   "pygments_lexer": "ipython3",
   "version": "3.6.5"
  }
 },
 "nbformat": 4,
 "nbformat_minor": 2
}
