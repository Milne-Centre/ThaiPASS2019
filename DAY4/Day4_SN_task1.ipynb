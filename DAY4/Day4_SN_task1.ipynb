{
 "cells": [
  {
   "cell_type": "markdown",
   "metadata": {},
   "source": [
    "# Supernova Remnants Notebook\n",
    "\n",
    "### Task 1\n",
    "In this task you will plot the analytical solution for the Sedov-Taylor phase of the evolution of a supernova remnant. "
   ]
  },
  {
   "cell_type": "markdown",
   "metadata": {},
   "source": [
    "First load the modules you will need (numpy and matplotlib)."
   ]
  },
  {
   "cell_type": "code",
   "execution_count": null,
   "metadata": {},
   "outputs": [],
   "source": []
  },
  {
   "cell_type": "markdown",
   "metadata": {},
   "source": [
    "To calculate these quantities correctly we need to make sure all values are using the same system of units. Here we are using cgs (centimetres, grams, seconds).\n",
    "To input and output the values it makes more sense to have them in units more suited to astronomy, to make them easier to read.\n",
    "\n",
    "Define some constants that can be multiplied by the output values so we can print them out in useful units.\n",
    "\n",
    "For example, time will be calculated in seconds but it is more useful for us to output it in years, or Megayears. \n",
    "So we can define:\n",
    "\n",
    "$sectoyear = 60 \\times 60 \\times 24 \\times 365.25$\n",
    "\n",
    "Then multiply this by the output to ensure the time we are reading is printed in years. \n",
    "\n",
    "Lengths will be calculated in $cm$ - but we want them in $pc$.\n",
    "\n",
    "Velocities will be calculated in $cm/s$ - but we want them in $km/s$.\n",
    "\n",
    "Masses will be calculated in grams - but we want them in solar masses. "
   ]
  },
  {
   "cell_type": "code",
   "execution_count": null,
   "metadata": {},
   "outputs": [],
   "source": []
  },
  {
   "cell_type": "markdown",
   "metadata": {},
   "source": [
    "Now we need to define some constant values such as the explosion energy and ambient density of the surrounding *ISM (interstellar medium)*. \n",
    "\n",
    "Ambient density = 1.E-26   (units = $g /{cm}^3$)\n",
    "\n",
    "Explosion energy = 1.E51 (units = $erg$)\n",
    "\n",
    "(These are both in cgs units so they don't need to be converted)\n",
    "\n",
    "We should also define the mass of the ejected stellar material. For a type II supnernova this would be above 8M$_{\\odot}$, for a type Ia supernova it would be much lower as the white dwarf has already blown all of the external stellar material away. We could estimate it to be below 1M$_{\\odot}$ in this case. \n",
    "Remember the mass will need to be converted into cgs!"
   ]
  },
  {
   "cell_type": "code",
   "execution_count": null,
   "metadata": {},
   "outputs": [],
   "source": []
  },
  {
   "cell_type": "markdown",
   "metadata": {},
   "source": [
    "We are going to be calculating the radius and velocity of the expanding shell during the Sedov-Taylor (ST) phase of the evolution of the SNR. \n",
    "To get the initial values for the velocity and radius of the swept up shell for the ST phase, we can estimate the velocity at the end of the free expansion phase.\n",
    "\n",
    "Work out the initial velocity of the ejected stellar material using the equation below, assuming the explosion energy is converted to kinetic energy. \n",
    "\n",
    "### $E_{SN}$ = $\\frac{1}{2} M_{e}v_{e}^2$\n"
   ]
  },
  {
   "cell_type": "code",
   "execution_count": null,
   "metadata": {},
   "outputs": [],
   "source": []
  },
  {
   "cell_type": "markdown",
   "metadata": {},
   "source": [
    "### Task 2\n",
    "\n",
    "Next we can work out the shell radius (in parsec) at the end of the free expansion phase, then the time it has taken (in years) to reach that radius. Use the equations below and assume the velocity in the free expansion phase is constant.\n",
    "\n",
    "$\\rho_{0}$ is the ambient density of the surrounding interstellar medium.\n",
    "\n",
    "### $R_{SW} = \\left(\\frac{3M_{e}}{4\\pi\\rho_{0}}\\right)^{1/3}$\n",
    "\n",
    "### $t_{SW} = \\frac{R_{SW}}{v_{e}}$"
   ]
  },
  {
   "cell_type": "code",
   "execution_count": null,
   "metadata": {},
   "outputs": [],
   "source": []
  },
  {
   "cell_type": "markdown",
   "metadata": {},
   "source": [
    "### Task 3\n",
    "\n",
    "Now work out the radius and velocity of the expanding shell of gas as a function of time during the Sedov-Taylor phase (where the time starts at the end of the free expansion phase). \n",
    "\n",
    "### $R_{Sed}(t) = \\left(\\frac{25E_{SN}}{4\\pi\\rho_{0}}\\right)^{1/5}t^{2/5}$\n",
    "\n",
    "### $V_{Sed}(t) = \\frac{2}{5}\\left(\\frac{25E_{SN}}{4\\pi\\rho_{0}}\\right)^{1/5}t^{-3/5}$\n",
    "\n",
    "Remember to use cgs units for the values in your calculations, then convert back to more sensible values (i.e. parsec,  years and km/s) afterwards. "
   ]
  },
  {
   "cell_type": "code",
   "execution_count": null,
   "metadata": {},
   "outputs": [],
   "source": [
    "\n",
    "\n"
   ]
  },
  {
   "cell_type": "markdown",
   "metadata": {},
   "source": [
    "Use the subplot function within matplotlib to create two plots showing the evolution of the shell radius with time and the shell velocity with time. \n",
    "\n",
    "Remember to add titles and axis labels. "
   ]
  },
  {
   "cell_type": "code",
   "execution_count": null,
   "metadata": {},
   "outputs": [],
   "source": []
  },
  {
   "cell_type": "code",
   "execution_count": null,
   "metadata": {},
   "outputs": [],
   "source": []
  }
 ],
 "metadata": {
  "kernelspec": {
   "display_name": "Python 3",
   "language": "python",
   "name": "python3"
  },
  "language_info": {
   "codemirror_mode": {
    "name": "ipython",
    "version": 3
   },
   "file_extension": ".py",
   "mimetype": "text/x-python",
   "name": "python",
   "nbconvert_exporter": "python",
   "pygments_lexer": "ipython3",
   "version": "3.6.5"
  }
 },
 "nbformat": 4,
 "nbformat_minor": 2
}
