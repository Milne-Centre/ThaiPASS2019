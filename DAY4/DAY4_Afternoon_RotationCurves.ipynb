{
 "cells": [
  {
   "cell_type": "markdown",
   "metadata": {},
   "source": [
    "# Rotation curves notebook\n",
    "\n",
    "You have just been introduced to the idea of rotation curves of galaxies and the questions that arise from these measurements. This task will allow you to compare real observational data to theoretical models of what galaxies are made of. \n",
    "\n",
    "For this task you will need to draw on all the skills and physics you have learnt so far. \n"
   ]
  },
  {
   "cell_type": "markdown",
   "metadata": {},
   "source": [
    "## Task 1\n",
    "\n",
    "You have a file that contains the orbital velocities of stars in a galaxy and their radial distance from the centre of the galaxy. You will need use this data to construct the *rotation curve* of the galaxy. \n",
    "\n",
    "You should use the data file *rc100224.dat*\n",
    "\n",
    "The first column of the file contains the radius (kpc: kiloparsec) and the second column contains observed orbital velocity ($km/s$)."
   ]
  },
  {
   "cell_type": "code",
   "execution_count": null,
   "metadata": {},
   "outputs": [],
   "source": []
  },
  {
   "cell_type": "markdown",
   "metadata": {},
   "source": [
    "## Task 2"
   ]
  },
  {
   "cell_type": "markdown",
   "metadata": {},
   "source": [
    "For this task you will use a real mass distribution data from a model of the Andromeda galaxy (M31) to calculate the orbital velocities. The mass distribution is of *only baryonic matter* (stars and gas). You will use the mass distribution to calculate and plot the rotation curve of the galaxy.\n",
    "\n",
    "From the data file, remember that you need to use the *cumulative/enclosed mass*.\n",
    "\n",
    "You can then use *Kepler's Laws of Planetary Motion* (see day one lecture slides) to calculate the orbital velocities of stars as a function of radial distance and plot this as a line graph.  \n",
    "\n",
    "You should then compare your graph to the one you made in task one and comment on any differences you find.\n",
    "\n",
    "\n",
    "You should use the data file *M31_mass2.dat*\n",
    "\n",
    "The first column of the file contains the radius (pc) and the second column contains the mass at that radius. \n"
   ]
  },
  {
   "cell_type": "code",
   "execution_count": null,
   "metadata": {},
   "outputs": [],
   "source": []
  },
  {
   "cell_type": "markdown",
   "metadata": {},
   "source": [
    "## Task 3a"
   ]
  },
  {
   "cell_type": "markdown",
   "metadata": {},
   "source": [
    "We will now modify our model from task two and see how this affects the rotation curve. To modify our model we will add a *non-baryonic component* to the mass distribution in the form of a dark matter mass profile.\n",
    "\n",
    "For this task, you will first define a *density profile*. You will have to calculate the mass distribution in part b from this density profile. This is done by first making a density profile using the radii values in the previous data files and then using a forward Euler solver function to get the mass function.\n",
    "\n",
    "Then, add the dark matter mass to the mass distribution in task two. After adding the mass, you should plot the rotation curve of the new mass distribution.\n",
    "\n",
    "The density profile follows the NFW-profile (see lecture slides for more information).\n",
    "\n",
    "For the constants, use: $\\rho_c = 2.1 \\times 10^3, r_c = 16.5 \\times 10^3$\n",
    "For initial conditions, use $\\rho(r)\\rvert_{r = 0} = \\rho_c$.\n"
   ]
  },
  {
   "cell_type": "code",
   "execution_count": null,
   "metadata": {},
   "outputs": [],
   "source": []
  },
  {
   "cell_type": "markdown",
   "metadata": {},
   "source": [
    "## Task 3b\n",
    "This part of the task is to calculate the dark matter mass profile and add it to mass distribution in task two. After adding the mass, you should plot the rotation curve of the new mass distribution.\n",
    "\n",
    "Recall that: \n",
    "\n",
    "$M(r)= \\int 4  \\pi r^2 \\rho(r) dr$,  from which it follows that:\n",
    "\n",
    "$M'(r) = \\dfrac{dM(r)}{dr} = 4 \\pi r^2 \\rho(r)$,    which means $M_{n+1} = M_n + h \\left( 4 \\pi r_n^2 \\rho_n  \\right)$\n",
    "\n",
    "And remember that you need to use the enclosed mass -- **not** the mass at point $r$.\n",
    "\n",
    "For initial conditions, use $M(0) = 0$. Use $h = r_{n+1} - r_n$ and $r$ to be the M31 radius data."
   ]
  },
  {
   "cell_type": "code",
   "execution_count": null,
   "metadata": {},
   "outputs": [],
   "source": []
  },
  {
   "cell_type": "markdown",
   "metadata": {},
   "source": [
    "## Additional information\n",
    "\n",
    "If you want to do more plotting, more data of rotation curves is available at at http://www.ioa.s.u-tokyo.ac.jp/~sofue/smd2018/Atlas_data_S-galaxies/\n",
    "\n",
    "You can press a number and find a list of data files. <code>rc[number].dat</code> are the rotation curves\n",
    "\n",
    "'100000' is the Milky Way and '100224' is the Andromeda galaxy."
   ]
  },
  {
   "cell_type": "code",
   "execution_count": null,
   "metadata": {},
   "outputs": [],
   "source": []
  }
 ],
 "metadata": {
  "kernelspec": {
   "display_name": "Python 3",
   "language": "python",
   "name": "python3"
  },
  "language_info": {
   "codemirror_mode": {
    "name": "ipython",
    "version": 3
   },
   "file_extension": ".py",
   "mimetype": "text/x-python",
   "name": "python",
   "nbconvert_exporter": "python",
   "pygments_lexer": "ipython3",
   "version": "3.6.5"
  }
 },
 "nbformat": 4,
 "nbformat_minor": 2
}
