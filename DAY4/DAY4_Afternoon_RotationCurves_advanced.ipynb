{
 "cells": [
  {
   "cell_type": "markdown",
   "metadata": {},
   "source": [
    "# Rotation curves - advanced\n",
    "\n",
    "This task is to construct the baryonic mass distribution yourself. This is based of the paper here: https://arxiv.org/pdf/1208.5712.pdf\n",
    "\n",
    "Note that this is not following the paper strictly as there are some simplifications made\n"
   ]
  },
  {
   "cell_type": "markdown",
   "metadata": {},
   "source": [
    "## Task 1\n",
    "\n",
    "For simplification, we only assume a bulge, disc, and stellar halo. \n",
    "Using the following equation, calculate the density profiles for each component\n",
    "$\\rho(r) = \\rho_c \\text{ exp}\\left(-d_N \\left[\\left(\\dfrac{r}{a_c}\\right)^{N-1}-1\\right]\\right)$,\n",
    "where <br/>\n",
    "name $=[\\text{bulge, disc, stellar component}]$, <br/>\n",
    "$\\rho_c = [9.201e-1, 1.307e-2, 4.459e-4]$, <br/>\n",
    "$a_c = [1.055, 9.0, 11.22]$, <br/>\n",
    "$d_N[7.769, 3.273, 8.669]$, <br/>\n",
    "$N=[2.7, 1.2, 3.0]$\n",
    "\n",
    "For a detailed explanation of each parameter, look at the paper (equation 2)"
   ]
  },
  {
   "cell_type": "code",
   "execution_count": null,
   "metadata": {},
   "outputs": [],
   "source": []
  },
  {
   "cell_type": "markdown",
   "metadata": {},
   "source": [
    "## Task 2"
   ]
  },
  {
   "cell_type": "markdown",
   "metadata": {},
   "source": [
    "In this task, you should calculate the mass in each interval. M(0) = 0\n",
    "\n",
    "The approach is similar to what you did for the dark matter profile in the other notebook"
   ]
  },
  {
   "cell_type": "code",
   "execution_count": null,
   "metadata": {},
   "outputs": [],
   "source": []
  },
  {
   "cell_type": "markdown",
   "metadata": {},
   "source": [
    "## Task 3"
   ]
  },
  {
   "cell_type": "markdown",
   "metadata": {},
   "source": [
    "Now calculate the orbital velocities for each component and plot it. This way, you can see how the different components contribute to the orbital velocities. \n",
    "\n",
    "Plot the complete rotation curve, which means you have to add the mass from each component in each element."
   ]
  },
  {
   "cell_type": "code",
   "execution_count": null,
   "metadata": {},
   "outputs": [],
   "source": []
  },
  {
   "cell_type": "code",
   "execution_count": null,
   "metadata": {},
   "outputs": [],
   "source": []
  },
  {
   "cell_type": "markdown",
   "metadata": {},
   "source": [
    "## Task 4\n",
    "Time for you to experiment! Ideas for experimentation:\n",
    "\n",
    "* Try changing the parameters ($\\rho_c, a_c, N, d_N$) and see how it changes the distributions.\n",
    "* Try adding more mass components and see how you can change the orbital velocity contributions.\n",
    "* Try different distribution functions, e.g NFW"
   ]
  },
  {
   "cell_type": "code",
   "execution_count": null,
   "metadata": {},
   "outputs": [],
   "source": []
  }
 ],
 "metadata": {
  "kernelspec": {
   "display_name": "Python 3",
   "language": "python",
   "name": "python3"
  },
  "language_info": {
   "codemirror_mode": {
    "name": "ipython",
    "version": 3
   },
   "file_extension": ".py",
   "mimetype": "text/x-python",
   "name": "python",
   "nbconvert_exporter": "python",
   "pygments_lexer": "ipython3",
   "version": "3.6.5"
  }
 },
 "nbformat": 4,
 "nbformat_minor": 2
}
