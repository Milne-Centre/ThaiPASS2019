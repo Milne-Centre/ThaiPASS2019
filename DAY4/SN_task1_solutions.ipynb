{
 "cells": [
  {
   "cell_type": "markdown",
   "metadata": {},
   "source": [
    "# Supernova Remnants Notebook\n",
    "\n",
    "### Task 1\n",
    "In this task you will plot the analytical solution for the Sedov-Taylor phase of the evolution of a supernova remnant. "
   ]
  },
  {
   "cell_type": "markdown",
   "metadata": {},
   "source": [
    "First load the modules you will need (numpy and matplotlib)."
   ]
  },
  {
   "cell_type": "code",
   "execution_count": 2,
   "metadata": {},
   "outputs": [],
   "source": [
    "import numpy as np\n",
    "import matplotlib.pyplot as plt"
   ]
  },
  {
   "cell_type": "markdown",
   "metadata": {},
   "source": [
    "To calculate these quantities correctly we need to make sure all values are using the same system of units. Here we are using cgs (centimetres, grams, seconds).\n",
    "To input and output the values it makes more sense to have them in units more suited to astronomy, to make them easier to read.\n",
    "\n",
    "Define some constants that can be multiplied by the output values so we can print them out in useful units.\n",
    "\n",
    "For example, time will be calculated in seconds but it is more useful for us to output it in years, or Megayears. \n",
    "So we can define:\n",
    "\n",
    "$sectoyear = 60 \\times 60 \\times 24 \\times 365.25$\n",
    "\n",
    "Then multiply this by the output to ensure the time we are reading is printed in years. \n",
    "\n",
    "Lengths will be calculated in $cm$ - but we want them in $pc$.\n",
    "\n",
    "Velocities will be calculated in $cm/s$ - but we want them in $km/s$.\n",
    "\n",
    "Masses will be calculated in grams - but we want them in solar masses. "
   ]
  },
  {
   "cell_type": "code",
   "execution_count": 3,
   "metadata": {},
   "outputs": [],
   "source": [
    "#Convert seconds to years\n",
    "sectoyear = 60 * 60 * 24 *365.25\n",
    "#Convert centimetres to parsec\n",
    "cmtopc = 3.086E18\n",
    "#Convert centimetres to velocity\n",
    "cmtokm = 1.0E5\n",
    "#Convert solar masses to grams\n",
    "sol2gram = 1.989E33"
   ]
  },
  {
   "cell_type": "markdown",
   "metadata": {},
   "source": [
    "Now we need to define some constant values such as the explosion energy and ambient density of the surrounding *ISM (interstellar medium)*. \n",
    "\n",
    "Ambient density = 1.E-26   (units = $g /{cm}^3$)\n",
    "\n",
    "Explosion energy = 1.E51 (units = $erg$)\n",
    "\n",
    "(These are both in cgs units so they don't need to be converted)\n",
    "\n",
    "We should also define the mass of the ejected stellar material. For a type II supnernova this would be above 8M$_{\\odot}$, for a type Ia supernova it would be much lower as the white dwarf has already blown all of the external stellar material away. We could estimate it to be below 1M$_{\\odot} in this case. \n",
    "Remember the mass will need to be converted into cgs!"
   ]
  },
  {
   "cell_type": "code",
   "execution_count": 4,
   "metadata": {},
   "outputs": [],
   "source": [
    "#Ambient density (ISM) in cgs                                                                                                                                                                                                  \n",
    "rho_ambient = 1.E-26\n",
    "#Explosion energy in cgs\n",
    "E_SN = 1.E51\n",
    "# Ejected mass                                                                                                                                                                                 \n",
    "M_ejecta = 0.25 * sol2gram"
   ]
  },
  {
   "cell_type": "markdown",
   "metadata": {},
   "source": [
    "We are going to be calculating the radius and velocity of the expanding shell during the Sedov-Taylor (ST) phase of the evolution of the SNR. \n",
    "To get the initial values for the velocity and radius of the swept up shell for the ST phase, we can estimate the velocity at the end of the free expansion phase.\n",
    "\n",
    "Work out the initial velocity of the ejected stellar material using the equation below, assuming the explosion energy is converted to kinetic energy. \n",
    "\n",
    "### $E_{SN}$ = $\\frac{1}{2} M_{e}v_{e}^2$\n"
   ]
  },
  {
   "cell_type": "code",
   "execution_count": 5,
   "metadata": {},
   "outputs": [
    {
     "name": "stdout",
     "output_type": "stream",
     "text": [
      "Initial velocity of the ejected material 20055.2279199 km/s\n"
     ]
    }
   ],
   "source": [
    "v_ejecta = (2. * E_SN /\tM_ejecta)**(1./2.)\n",
    "print \"Initial velocity of the ejected material\", v_ejecta/cmtokm, \"km/s\""
   ]
  },
  {
   "cell_type": "markdown",
   "metadata": {},
   "source": [
    "### Task 2\n",
    "\n",
    "Next we can work out the shell radius (in parsec) at the end of the free expansion phase, then the time it has taken (in years) to reach that radius. Use the equations below and assume the velocity in the free expansion phase is constant.\n",
    "\n",
    "$\\rho_{0}$ is the ambient density of the surrounding interstellar medium.\n",
    "\n",
    "### $R_{SW} = \\left(\\frac{3M_{e}}{4\\pi\\rho_{0}}\\right)^{1/3}$\n",
    "\n",
    "### $t_{SW} = \\frac{R_{SW}}{v_{e}}$"
   ]
  },
  {
   "cell_type": "code",
   "execution_count": 6,
   "metadata": {},
   "outputs": [
    {
     "name": "stdout",
     "output_type": "stream",
     "text": [
      "Radius at the end of the free expansion phase 7.39207116209 pc\n",
      "Time at the end of the free expansion phase 360.437934105 years\n"
     ]
    }
   ],
   "source": [
    "R_SW = (3. * M_ejecta /(4. * np.pi * rho_ambient))**(1./3.)\n",
    "t_SW = R_SW / v_ejecta\n",
    "print \"Radius at the end of the free expansion phase\", R_SW/cmtopc, \"pc\"\n",
    "print \"Time at the end of the free expansion phase\", t_SW/sectoyear, \"years\""
   ]
  },
  {
   "cell_type": "markdown",
   "metadata": {},
   "source": [
    "### Task 3\n",
    "\n",
    "Now work out the radius and velocity of the expanding shell of gas as a function of time during the Sedov-Taylor phase (where the time starts at the end of the free expansion phase). \n",
    "\n",
    "### $R_{Sed}(t) = \\left(\\frac{25E_{SN}}{4\\pi\\rho_{0}}\\right)^{1/5}t^{2/5}$\n",
    "\n",
    "### $V_{Sed}(t) = \\frac{2}{5}\\left(\\frac{25E_{SN}}{4\\pi\\rho_{0}}\\right)^{1/5}t^{-3/5}$\n",
    "\n",
    "Remember to use cgs units for the values in your calculations, then convert back to more sensible values (i.e. parsec,  years and km/s) afterwards. "
   ]
  },
  {
   "cell_type": "code",
   "execution_count": 7,
   "metadata": {},
   "outputs": [
    {
     "name": "stdout",
     "output_type": "stream",
     "text": [
      "Values after expansion in the Sedov-Taylor phase after 20 000 years:\n",
      "Radius =  49.0136236442 pc\n",
      "Velocity =  959.082493093 km/s\n"
     ]
    }
   ],
   "source": [
    "t_start = 360\n",
    "t_end = 20000 #years                                                                                                                                                                                                           \n",
    "blah=(10000 - t_start+1)\n",
    "\n",
    "#Define arrays\n",
    "R_sed =[]\n",
    "V_sed =[]\n",
    "t_sed =[]\n",
    "#R_sed = np.zeros(blah)\n",
    "#V_sed = np.zeros(blah)\n",
    "#Time = np.zeros(blah)\n",
    "\n",
    "#Loop over time                                                                                                                                                                                                                \n",
    "for i in range(t_start, t_end, 10):\n",
    "    Time = i * sectoyear\n",
    "    t_sed.append(Time/sectoyear)\n",
    "    \n",
    "    Radius = ((25.  * E_SN)/(4. * np.pi * rho_ambient))**(1./5.) * (Time)**(2./5.)\n",
    "    R_sed.append(Radius/cmtopc)\n",
    "    \n",
    "    Velocity = (2.0/5.0)*((25.0 * E_SN)/(4. * np.pi  * rho_ambient))**(1./5.) * Time**(-3./5.)\n",
    "    V_sed.append(Velocity/cmtokm)\n",
    "\n",
    "print \"Values after expansion in the Sedov-Taylor phase after 20 000 years:\"\n",
    "print \"Radius = \", R_sed[-1], \"pc\"\n",
    "print \"Velocity = \", V_sed[-1], \"km/s\"\n",
    "\n"
   ]
  },
  {
   "cell_type": "markdown",
   "metadata": {},
   "source": [
    "Use the subplot function within matplotlib to create two plots showing the evolution of the shell radius with time and the shell velocity with time. \n",
    "\n",
    "Remember to add titles and axis labels. "
   ]
  },
  {
   "cell_type": "code",
   "execution_count": 8,
   "metadata": {},
   "outputs": [
    {
     "data": {
      "image/png": "[encoded data removed]",
      "text/plain": [
       "<Figure size 432x288 with 2 Axes>"
      ]
     },
     "metadata": {
      "needs_background": "light"
     },
     "output_type": "display_data"
    }
   ],
   "source": [
    "plt.subplot(2,2,1)\n",
    "plt.plot(t_sed, R_sed)\n",
    "plt.title('Radius')\n",
    "plt.ylabel('Radius (pc)')\n",
    "plt.xlabel('Time (years)')\n",
    "\n",
    "plt.subplot(2,2,2)\n",
    "plt.plot(t_sed, V_sed)\n",
    "plt.title('Velocity')\n",
    "plt.ylabel('Velocity (km/s)')\n",
    "plt.xlabel('Time (years)')\n",
    "\n",
    "plt.show()"
   ]
  }
 ],
 "metadata": {
  "kernelspec": {
   "display_name": "Python 2",
   "language": "python",
   "name": "python2"
  },
  "language_info": {
   "codemirror_mode": {
    "name": "ipython",
    "version": 2
   },
   "file_extension": ".py",
   "mimetype": "text/x-python",
   "name": "python",
   "nbconvert_exporter": "python",
   "pygments_lexer": "ipython2",
   "version": "2.7.10"
  }
 },
 "nbformat": 4,
 "nbformat_minor": 2
}
