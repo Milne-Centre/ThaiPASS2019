{
 "cells": [
  {
   "cell_type": "markdown",
   "metadata": {},
   "source": [
    "# Supernovae Notebook Two\n",
    "\n",
    "In this task you will plot data output from a hydrodynamical simulation produced by a code called FLASH."
   ]
  },
  {
   "cell_type": "markdown",
   "metadata": {},
   "source": [
    "### Task 1\n",
    "\n",
    "First we need to load the required modules.\n",
    "For this task you will only need a module called yt."
   ]
  },
  {
   "cell_type": "code",
   "execution_count": 3,
   "metadata": {},
   "outputs": [
    {
     "ename": "ImportError",
     "evalue": "No module named yt",
     "output_type": "error",
     "traceback": [
      "\u001b[0;31m---------------------------------------------------------------------------\u001b[0m",
      "\u001b[0;31mImportError\u001b[0m                               Traceback (most recent call last)",
      "\u001b[0;32m<ipython-input-3-2d2292a375dc>\u001b[0m in \u001b[0;36m<module>\u001b[0;34m()\u001b[0m\n\u001b[0;32m----> 1\u001b[0;31m \u001b[0;32mimport\u001b[0m \u001b[0myt\u001b[0m\u001b[0;34m\u001b[0m\u001b[0m\n\u001b[0m",
      "\u001b[0;31mImportError\u001b[0m: No module named yt"
     ]
    }
   ],
   "source": [
    "import yt"
   ]
  },
  {
   "cell_type": "markdown",
   "metadata": {},
   "source": [
    "Next we need to read in the simulation data. There are several files containing all the data for the gas in the simulation volume at different times. \n",
    "\n",
    "We can create a time series which automatically loads up all the numbered files with the same string in their name: \n",
    "\n",
    "+ ts = yt.Datasetseries(\"datafilename[0-9]\")\n",
    "\n",
    "The names of the files are \n",
    "sedov_hdf5_chk_0005, sedov_hdf5_chk_00010, ........, sedov_hdf5_chk_0325\n",
    "\n",
    "Going up five at a time (there were more than this, there was just a bit too much data to add to the system for this task).\n",
    "\n",
    "The path to these files is:\n",
    "\n",
    "+ /user/scratch14_wendi1/Claire/DATA/\n",
    "\n",
    "Use the above information to create the time series to load these files."
   ]
  },
  {
   "cell_type": "code",
   "execution_count": null,
   "metadata": {},
   "outputs": [],
   "source": [
    "ts = yt.DatasetSeries(\"/user/scratch14_wendi1/Claire/DATA/sedov_hdf5_chk_0[0-9][0-9][0-9]\")"
   ]
  },
  {
   "cell_type": "markdown",
   "metadata": {},
   "source": [
    "Now to make plots of quantities we are interested in at each timestep in the simulation, we can use a loop to load the data from each file. \n",
    "    \n",
    "+ for ds in ts\n",
    "\n",
    "\n",
    "        slc = yt.SlicePlot(ds, \"z\", \"dens\", origin=\"native\")  \n",
    "\n",
    "Here *\"dens\"* is the gas density. You can access other properties using *\"pressure\", \"temperature\", \"xvel\",  \"yvel\", \"zvel\"*, etc. \n",
    "\n",
    "*\"z\"* is the axis we want to take a slice through. So this code takes a slice through $z=0$ and plots the x and y gas positions. They are then rendered (coloured) according to their density. \n",
    "\n",
    "Try the above on your own. *slc.show()* will show the plots like *plt.show()*, now we are using slc to plot instead of plt. This code will automatically add axis labels, so make a simple plot first then have a look at what can be added to it afterwards.\n",
    "\n",
    "\n",
    "You can edit the plot further using commands like:\n",
    "\n",
    "*+ slc.set_cmap(\"dens\", \"algae\")*              - Sets the colour map \n",
    "\n",
    "*+ slc.set_unit('density', 'g/cm**3')    - changes the units on the colout bar (for density) from code units into something else*\n",
    "\n",
    "*+ slc.set_zlim(\"dens\",1e-27, 1e-25)  - Sets the limits on the colour bar (here for density -  the same canbe done for the other axes, otherwise the code will automatically just plot the size of the whole box)*\n",
    "\n",
    "\n",
    "\n",
    "This command is also useful to add the time to the plots\n",
    "\n",
    "*+ slc.annotate_timestamp(text_args = {'color':'white', 'size':30},draw_inset_box=True, inset_box_args={'alpha':0.0})*\n",
    "\n",
    "(All of these commands need to be done for each plot, remember that when you are constructing the *for loop*).\n",
    "\n",
    "\n",
    "For more information on plotting gas properties at a slice through a 3D simulation box you can visit this website:\n",
    "https://yt-project.org/docs/dev/cookbook/simple_plots.html#simple-slices\n",
    "You can also find more information on the above commands here; play around with the values!\n",
    "\n",
    "First, try plotting the density slices at each timestep using the *for loop* above.\n",
    "\n",
    "For trying it out the first time you may want to just plot the first two or three so that you can see them quickly rather than filling up the screen with 60+ plots!\n",
    "\n",
    "You could plot the pressure if you finish the density plots. "
   ]
  },
  {
   "cell_type": "code",
   "execution_count": null,
   "metadata": {},
   "outputs": [],
   "source": [
    "for ds in ts:\n",
    "\n",
    "    slc = yt.SlicePlot(ds, \"z\", \"dens\", origin=\"native\")        # Generate slice                                                                                                                                          \n",
    "    slc.annotate_scale(coeff = 5, unit = 'pc', text_args={'size':30})      # Add scale bar      \n",
    "    slc.set_zlim(\"dens\",1e-27, 1e-25)               # z axis limits             \n",
    "    slc.set_cmap(\"dens\", \"algae\")                   # Set the colour map          \n",
    "    slc.set_unit('density', 'g/cm**3')            #Change density units\n",
    "    slc.annotate_timestamp(text_args = {'color':'white', 'size':30},draw_inset_box=True, inset_box_args={'alpha':0.0})   # Add timestamp to the plot                                                                                                                                     \n",
    "    slc.show\n",
    "    slc.save()\n"
   ]
  },
  {
   "cell_type": "markdown",
   "metadata": {},
   "source": [
    "If you finish this and would like to make a video from the plots you have created you will need to do this on your own computer (as astrohub does not have the required software). If you would like to do this please ask! Once you have the *.png* files on your computer and the required software (*ffmpeg*), it takes a single line to make a video.\n",
    "You will need *ffmpeg* (available from here: https://www.ffmpeg.org/)."
   ]
  },
  {
   "cell_type": "code",
   "execution_count": null,
   "metadata": {},
   "outputs": [],
   "source": []
  }
 ],
 "metadata": {
  "kernelspec": {
   "display_name": "Python 2",
   "language": "python",
   "name": "python2"
  },
  "language_info": {
   "codemirror_mode": {
    "name": "ipython",
    "version": 2
   },
   "file_extension": ".py",
   "mimetype": "text/x-python",
   "name": "python",
   "nbconvert_exporter": "python",
   "pygments_lexer": "ipython2",
   "version": "2.7.15"
  }
 },
 "nbformat": 4,
 "nbformat_minor": 2
}
