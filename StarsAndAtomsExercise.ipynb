{
 "cells": [
  {
   "cell_type": "markdown",
   "metadata": {},
   "source": [
    "# Stellar Evolution Python Exercises\n",
    "\n",
    "In this session, we will use python to look at some of the things you have learned in this morning's lectures. We are using data from the NuGrid collaboration -- a team of researchers from around the world who are investigating nucleosynthesis and stellar astrophysics. "
   ]
  },
  {
   "cell_type": "markdown",
   "metadata": {},
   "source": [
    "## Step 1: Some initial set-up\n",
    "\n",
    "Before we can look at the data, we need to set up our notebook. This means we have to load in the various modules that contain common functions that we will use. We will start by *import*ing numpy, matplotlib and the special NuGrid python module nugrid.py. This last module contains special functions for extracting the data we need, and in some cases, for plotting them in special ways."
   ]
  },
  {
   "cell_type": "code",
   "execution_count": null,
   "metadata": {},
   "outputs": [],
   "source": [
    "import numpy as np\n",
    "import matplotlib.pyplot as plt\n",
    "from nugridpy import nugridse as mp # change this to something more logical?"
   ]
  },
  {
   "cell_type": "markdown",
   "metadata": {},
   "source": [
    "Now we will set the path to the data you will be looking at. This will save you having to write out long directory structures!"
   ]
  },
  {
   "cell_type": "code",
   "execution_count": 1,
   "metadata": {},
   "outputs": [],
   "source": [
    "path_to_data = \"/data/ASDR/NuGrid/data/set1/set1.2/ppd_wind\""
   ]
  },
  {
   "cell_type": "markdown",
   "metadata": {},
   "source": [
    "Now we need to select a model to work with. There are 10 different masses to choose from. The masses (together with their filenames) are:\n",
    "\n",
    "1.65 M$_\\odot$  -- M1.65Z2.0e-02.standard <br>\n",
    "2.00 M$_\\odot$  -- M2.00Z2.0e-02.standard <br>\n",
    "3.00 M$_\\odot$  -- M3.00Z2.0e-02.standard <br>\n",
    "4.00 M$_\\odot$  -- M4.00Z2.0e-02.standard <br>\n",
    "5.00 M$_\\odot$  -- M5.00Z2.0e-02.standard <br>\n",
    "15.0 M$_\\odot$  -- M15.0Z2.0e-02.standard <br>\n",
    "20.0 M$_\\odot$  -- M20.0Z2.0e-02.standard <br>\n",
    "25.0 M$_\\odot$  -- M25.0Z2.0e-02.standard <br>\n",
    "32.0 M$_\\odot$  -- M32.0Z2.0e-02.standard <br>\n",
    "60.0 M$_\\odot$  -- M60.0Z2.0e-02.standard <br>\n",
    "\n",
    "We will choose the first one for now. Later on you will look at some of the others."
   ]
  },
  {
   "cell_type": "code",
   "execution_count": 2,
   "metadata": {},
   "outputs": [],
   "source": [
    "chosen_mass = \"M1.65Z2.0e-02.standard\""
   ]
  },
  {
   "cell_type": "markdown",
   "metadata": {},
   "source": [
    "Finally, we combine the path to the data with your chosen filename, plus a little extra, so that we can get python to read it in."
   ]
  },
  {
   "cell_type": "code",
   "execution_count": 5,
   "metadata": {},
   "outputs": [],
   "source": [
    "file_name = path_to_data + \"/\" + chosen_mass + \"/H5_out\""
   ]
  },
  {
   "cell_type": "markdown",
   "metadata": {},
   "source": [
    "You are now ready to start investigating the behaviour of your chosen mass of star!\n",
    "\n",
    "## Step 2: Reading in data, and some basic commands\n",
    "\n",
    "The aim of this exercise is for you to learn how the abundances of the elements change over time within a star. Which isotopes/elements are consumed? Which are produced? What are the heaviest elements your chosen star is able to produce?\n",
    "\n",
    "To get started, we first need to load the data into python so that you can start manipulating it. We use a special command from the NuGrid python module to do this:"
   ]
  },
  {
   "cell_type": "code",
   "execution_count": null,
   "metadata": {},
   "outputs": [],
   "source": [
    "data = mp.se(file_name)"
   ]
  },
  {
   "cell_type": "markdown",
   "metadata": {},
   "source": [
    "The structure 'data' now contains all the data from your chosen stellar model. It is now up to you to decide how to use this! You can get various useful bits of information out of the data file using the command se.get on the data file, i.e. data.se.get(). Let's have a look at some of the data we have available.\n",
    "\n",
    "First, let's see how many cycles we have in the model. We can get this using the following command:"
   ]
  },
  {
   "cell_type": "code",
   "execution_count": null,
   "metadata": {},
   "outputs": [],
   "source": [
    "cycles = data.se.cycles\n",
    "cycles = [int(i) for i in cycles]"
   ]
  },
  {
   "cell_type": "markdown",
   "metadata": {},
   "source": [
    "The second command converts the data in 'cycles' into integers (this helps with plotting). If you print out the contents of 'cycles' you get a long list of all the available cycles in the model -- every 20th cycle of the model is included in the data. Remember, each cycle is one stellar structure. We don't yet know the age of the stellar structure however. We should extract this information too, using the following cell (Be patient! It takes some time to load this data.). The age is given in seconds -- you may wish to convert it into years at some point."
   ]
  },
  {
   "cell_type": "code",
   "execution_count": 1,
   "metadata": {},
   "outputs": [
    {
     "ename": "NameError",
     "evalue": "name 'data' is not defined",
     "output_type": "error",
     "traceback": [
      "\u001b[0;31m---------------------------------------------------------------------------\u001b[0m",
      "\u001b[0;31mNameError\u001b[0m                                 Traceback (most recent call last)",
      "\u001b[0;32m<ipython-input-1-87aac1318ee9>\u001b[0m in \u001b[0;36m<module>\u001b[0;34m\u001b[0m\n\u001b[0;32m----> 1\u001b[0;31m \u001b[0mage\u001b[0m \u001b[0;34m=\u001b[0m \u001b[0mdata\u001b[0m\u001b[0;34m.\u001b[0m\u001b[0mse\u001b[0m\u001b[0;34m.\u001b[0m\u001b[0mget\u001b[0m\u001b[0;34m(\u001b[0m\u001b[0mage\u001b[0m\u001b[0;34m)\u001b[0m\u001b[0;34m\u001b[0m\u001b[0;34m\u001b[0m\u001b[0m\n\u001b[0m",
      "\u001b[0;31mNameError\u001b[0m: name 'data' is not defined"
     ]
    }
   ],
   "source": [
    "age = data.se.get(age)"
   ]
  },
  {
   "cell_type": "markdown",
   "metadata": {},
   "source": [
    "In the cell below, plot up age as a function of cycle number. You will see that it is very non-linear -- we calculate many more models for the very end of the star's life. "
   ]
  },
  {
   "cell_type": "code",
   "execution_count": null,
   "metadata": {},
   "outputs": [],
   "source": []
  },
  {
   "cell_type": "markdown",
   "metadata": {},
   "source": [
    "You should find that the star's age increases mostly between the first model and model 1000. All the remaining models are needed to calculate the star's very complicated life in its final phase of its evolution -- the asymptotic giant branch. That's a lot of computational effort!\n",
    "\n",
    "Let's look at the star's abundances in some of the early models. We can extract the radius (in solar radii) and mass (in solar masses) of each *meshpoint* for a given cycle with the following commands:"
   ]
  },
  {
   "cell_type": "code",
   "execution_count": null,
   "metadata": {},
   "outputs": [],
   "source": [
    "mass = data.se.get(1000,'mass')\n",
    "radius = data.se.get(1000,'radius')"
   ]
  },
  {
   "cell_type": "markdown",
   "metadata": {},
   "source": [
    "It is also possible to extract the density ('rho') and temperature ('temperature') in the same way. The list data also contain the abundances of the isotopes at each meshpoint. Let's extract some of these as well. I can extract isotopes individually, or in a group, as follows:"
   ]
  },
  {
   "cell_type": "code",
   "execution_count": null,
   "metadata": {},
   "outputs": [],
   "source": [
    "h1 = data.se.get(1000,'H-1')\n",
    "he4 = data.se.get(1000,'He-4')\n",
    "c12,n14,o16 = data.se.get(1000,('C-12','N-14','O-16'))"
   ]
  },
  {
   "cell_type": "markdown",
   "metadata": {},
   "source": [
    "You should now try plotting up these abundances as a function of mass. You will need to use a log scale if you plot up multiple abundances at the same time because they are often very different. You might like to try plotting up some of the isotopes from the other proton-burning cycles we learned about in the lecture."
   ]
  },
  {
   "cell_type": "code",
   "execution_count": null,
   "metadata": {},
   "outputs": [],
   "source": []
  },
  {
   "cell_type": "markdown",
   "metadata": {},
   "source": [
    "You now have all the commands you need to explore the data set. Let's test your understanding with the following questions:\n",
    "\n",
    "1. When does the star run out of hydrogen at the centre? Give both the cycle number and the age.\n",
    "2. Which of the CNO isotopes is most abundant at the point when hydrogen is exhausted?\n",
    "3. Find the central temperature at the point when helium burning begins in the core."
   ]
  },
  {
   "cell_type": "code",
   "execution_count": null,
   "metadata": {},
   "outputs": [],
   "source": []
  },
  {
   "cell_type": "markdown",
   "metadata": {},
   "source": [
    "## Step 3: Explore!\n",
    "\n",
    "Now its over to you! You should now have all the tools you need to examine the data. Choose a different mass of star from the one we looked at above, and see what happens to it! Your aim is to determine how the total mass of various elements (focus on H, He, C, N, O, Ne, Mg, Si and Fe) vary over time in your model. Try to plot up their total masses as a function of time. You will need to do a reasonable amount of data manipulation before you can do this however! Think about what steps you will need to go through to make the calculations, and what functions you might need to create along the way."
   ]
  },
  {
   "cell_type": "code",
   "execution_count": 7,
   "metadata": {},
   "outputs": [
    {
     "ename": "NameError",
     "evalue": "name 'se' is not defined",
     "output_type": "error",
     "traceback": [
      "\u001b[0;31m---------------------------------------------------------------------------\u001b[0m",
      "\u001b[0;31mNameError\u001b[0m                                 Traceback (most recent call last)",
      "\u001b[0;32m<ipython-input-7-87ce110ce121>\u001b[0m in \u001b[0;36m<module>\u001b[0;34m\u001b[0m\n\u001b[0;32m----> 1\u001b[0;31m \u001b[0mmass\u001b[0m \u001b[0;34m=\u001b[0m \u001b[0mse\u001b[0m\u001b[0;34m.\u001b[0m\u001b[0mget\u001b[0m\u001b[0;34m(\u001b[0m\u001b[0;36m100\u001b[0m\u001b[0;34m,\u001b[0m\u001b[0;34m'mass'\u001b[0m\u001b[0;34m)\u001b[0m\u001b[0;34m\u001b[0m\u001b[0;34m\u001b[0m\u001b[0m\n\u001b[0m",
      "\u001b[0;31mNameError\u001b[0m: name 'se' is not defined"
     ]
    }
   ],
   "source": []
  },
  {
   "cell_type": "markdown",
   "metadata": {},
   "source": [
    "Do not worry if you don't reach this point!\n",
    "\n",
    "## Step 4: Too easy?\n",
    "\n",
    "So you got your plots made and can tell us all about element production in your star. If you'd like a tougher challenge, try making an animation of how the star's abundances are varying as a function of mass. Plot abundance as a function of mass, for each cycle in your data file and combine them into an animation.\n",
    "\n",
    "You will need to read up on python's animation module to do this! Good luck :-)"
   ]
  },
  {
   "cell_type": "code",
   "execution_count": null,
   "metadata": {},
   "outputs": [],
   "source": []
  }
 ],
 "metadata": {
  "kernelspec": {
   "display_name": "Python 3",
   "language": "python",
   "name": "python3"
  },
  "language_info": {
   "codemirror_mode": {
    "name": "ipython",
    "version": 3
   },
   "file_extension": ".py",
   "mimetype": "text/x-python",
   "name": "python",
   "nbconvert_exporter": "python",
   "pygments_lexer": "ipython3",
   "version": "3.7.1"
  }
 },
 "nbformat": 4,
 "nbformat_minor": 2
}
